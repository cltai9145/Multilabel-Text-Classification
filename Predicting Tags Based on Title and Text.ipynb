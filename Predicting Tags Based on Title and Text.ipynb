{
 "cells": [
  {
   "cell_type": "markdown",
   "metadata": {},
   "source": [
    "# Predicting Tags for Stack Overflow\n",
    "\n",
    "## Table of Contents\n",
    "* [Instructions](#Instructions)\n",
    "\n",
    "#### Part 1: Data Processing\n",
    "* [Import Modules](#Import-Modules)\n",
    "* [Import Data](#Import-Data)\n",
    "* [Data Cleaning](#Data-Cleaning)\n",
    "* [Analysis of Tags](#Analysis-of-Tags)\n",
    "\n",
    "#### Part 2: Machine Learning Models\n",
    "* [Bag of Words](#Bag-of-Words)\n",
    "* [OneVsRestClassifier with SGDClassifier](#OneVsRestClassifier-with-SGDClassifier)\n",
    "* [OneVsRestClassifier with DecisionTreeClassifier](#OneVsRestClassifier-with-DecisionTreeClassifier)\n",
    "* [OneVsRestClassifier with RidgeClassifier](#OneVsRestClassifier-with-RidgeClassifier)\n",
    "* [OneVsRestClassifier with KNeighborsClassifier](#OneVsRestClassifier-with-KNeighborsClassifier)\n",
    "* [OneVsRestClassifier with ExtraTreesClassifier](#OneVsRestClassifier-with-ExtraTreesClassifier)\n",
    "* [Adapted Algorithm: Multilabel k Nearest Neighbours](#Adapted-Algorithm:-Multilabel-k-Nearest-Neighbours)\n",
    "* [Evaluation Metrics for Different Models](#Evaluation-Metrics-for-Different-Models) \n",
    "* [Tuning CountVectorizer to Fit DecisionTreeClassifier](#Tuning-CountVectorizer-to-Fit-DecisionTreeClassifier)\n",
    "  * [Max_features: 50](#Max_features:-50)\n",
    "  * [Max_features: 100](#Max_features:-100)\n",
    "  * [Max_features: 200](#Max_features:-200)\n",
    "  * [Max_features: 300](#Max_features:-300)\n",
    "  * [Max_features: 400](#Max_features:-400)\n",
    "  * [Max_features: 500](#Max_features:-500)\n",
    "  * [Max_features: 1000](#Max_features:-1000)\n",
    "  * [Evaluation Metrics for DecisionTreeClassifier](#Evaluation-Metrics-for-DecisionTreeClassifier)\n",
    "  \n",
    "#### Part 3: Making Predictions\n",
    "* [Tags Prediction](#Tags-Prediction)\n",
    "\n",
    "## Instructions\n",
    "[Top](#Table-of-Contents)\n",
    "\n",
    "1. You will need to create Artificial Intelligence (AI) or Machine Learning (ML) models to predict tags or keywords based on the questions and titles.\n",
    "2. You will have 2 weeks to complete and send your code. \n",
    "3. You can use any programming language you like including R or Python. \n",
    "4. The accuracy of your model will be evaluated based on the F1 Score. The F1 Score, which is between 0% to 100%, provides a comprehensive measure of accuracy using both Precision and Recall.\n",
    "5. It's ok to just use the first or any random **5,000 rows** of the dataset since the size of the data is quite large.\n",
    "6. If you figure out how to manage the large dataset given your Memory or RAM limitation, that's even better.\n",
    "\n",
    "## Part 1: Data Processing\n",
    "### Import Modules\n",
    "[Top](#Part-1:-Data-Processing)"
   ]
  },
  {
   "cell_type": "code",
   "execution_count": 168,
   "metadata": {
    "scrolled": false
   },
   "outputs": [],
   "source": [
    "# data processing\n",
    "import numpy as np\n",
    "import pandas as pd\n",
    "import seaborn as sns\n",
    "import matplotlib.pyplot as plt\n",
    "\n",
    "# cleaning data\n",
    "import re\n",
    "import bs4\n",
    "import nltk\n",
    "import nltk.tokenize as tok\n",
    "from nltk.stem import WordNetLemmatizer \n",
    "from nltk.corpus import stopwords\n",
    "\n",
    "# machine learning models\n",
    "from sklearn.feature_extraction.text import CountVectorizer, TfidfVectorizer\n",
    "from sklearn.model_selection import train_test_split\n",
    "from sklearn.multiclass import OneVsRestClassifier\n",
    "from sklearn.linear_model import SGDClassifier, RidgeClassifier\n",
    "from sklearn.naive_bayes import MultinomialNB\n",
    "from sklearn.tree import DecisionTreeClassifier\n",
    "from sklearn.neighbors import KNeighborsClassifier\n",
    "from sklearn.ensemble import ExtraTreesClassifier\n",
    "from skmultilearn.adapt import MLkNN\n",
    "from sklearn.metrics import classification_report, f1_score, precision_score, recall_score, accuracy_score"
   ]
  },
  {
   "cell_type": "code",
   "execution_count": 169,
   "metadata": {
    "scrolled": false
   },
   "outputs": [
    {
     "name": "stdout",
     "output_type": "stream",
     "text": [
      "[nltk_data] Downloading package wordnet to\n",
      "[nltk_data]     C:\\Users\\long\\AppData\\Roaming\\nltk_data...\n",
      "[nltk_data]   Package wordnet is already up-to-date!\n",
      "[nltk_data] Downloading package stopwords to\n",
      "[nltk_data]     C:\\Users\\long\\AppData\\Roaming\\nltk_data...\n",
      "[nltk_data]   Package stopwords is already up-to-date!\n"
     ]
    },
    {
     "data": {
      "text/plain": [
       "True"
      ]
     },
     "execution_count": 169,
     "metadata": {},
     "output_type": "execute_result"
    }
   ],
   "source": [
    "nltk.download('wordnet')\n",
    "nltk.download('stopwords')"
   ]
  },
  {
   "cell_type": "markdown",
   "metadata": {},
   "source": [
    "## Import Data\n",
    "[Top](#Part-1:-Data-Processing)\n",
    "\n",
    "Selecting first 10,000 rows from the original dataset of 6,034,195 rows. "
   ]
  },
  {
   "cell_type": "code",
   "execution_count": 170,
   "metadata": {},
   "outputs": [
    {
     "name": "stdout",
     "output_type": "stream",
     "text": [
      "(10000, 4)\n"
     ]
    },
    {
     "data": {
      "text/html": [
       "<div>\n",
       "<style scoped>\n",
       "    .dataframe tbody tr th:only-of-type {\n",
       "        vertical-align: middle;\n",
       "    }\n",
       "\n",
       "    .dataframe tbody tr th {\n",
       "        vertical-align: top;\n",
       "    }\n",
       "\n",
       "    .dataframe thead th {\n",
       "        text-align: right;\n",
       "    }\n",
       "</style>\n",
       "<table border=\"1\" class=\"dataframe\">\n",
       "  <thead>\n",
       "    <tr style=\"text-align: right;\">\n",
       "      <th></th>\n",
       "      <th>Id</th>\n",
       "      <th>Title</th>\n",
       "      <th>Body</th>\n",
       "      <th>Tags</th>\n",
       "    </tr>\n",
       "  </thead>\n",
       "  <tbody>\n",
       "    <tr>\n",
       "      <th>0</th>\n",
       "      <td>1</td>\n",
       "      <td>How to check if an uploaded file is an image w...</td>\n",
       "      <td>&lt;p&gt;I'd like to check if an uploaded file is an...</td>\n",
       "      <td>php image-processing file-upload upload mime-t...</td>\n",
       "    </tr>\n",
       "    <tr>\n",
       "      <th>1</th>\n",
       "      <td>2</td>\n",
       "      <td>How can I prevent firefox from closing when I ...</td>\n",
       "      <td>&lt;p&gt;In my favorite editor (vim), I regularly us...</td>\n",
       "      <td>firefox</td>\n",
       "    </tr>\n",
       "    <tr>\n",
       "      <th>2</th>\n",
       "      <td>3</td>\n",
       "      <td>R Error Invalid type (list) for variable</td>\n",
       "      <td>&lt;p&gt;I am import matlab file and construct a dat...</td>\n",
       "      <td>r matlab machine-learning</td>\n",
       "    </tr>\n",
       "    <tr>\n",
       "      <th>3</th>\n",
       "      <td>4</td>\n",
       "      <td>How do I replace special characters in a URL?</td>\n",
       "      <td>&lt;p&gt;This is probably very simple, but I simply ...</td>\n",
       "      <td>c# url encoding</td>\n",
       "    </tr>\n",
       "    <tr>\n",
       "      <th>4</th>\n",
       "      <td>5</td>\n",
       "      <td>How to modify whois contact details?</td>\n",
       "      <td>&lt;pre&gt;&lt;code&gt;function modify(.......)\\n{\\n  $mco...</td>\n",
       "      <td>php api file-get-contents</td>\n",
       "    </tr>\n",
       "  </tbody>\n",
       "</table>\n",
       "</div>"
      ],
      "text/plain": [
       "   Id                                              Title  \\\n",
       "0   1  How to check if an uploaded file is an image w...   \n",
       "1   2  How can I prevent firefox from closing when I ...   \n",
       "2   3           R Error Invalid type (list) for variable   \n",
       "3   4      How do I replace special characters in a URL?   \n",
       "4   5               How to modify whois contact details?   \n",
       "\n",
       "                                                Body  \\\n",
       "0  <p>I'd like to check if an uploaded file is an...   \n",
       "1  <p>In my favorite editor (vim), I regularly us...   \n",
       "2  <p>I am import matlab file and construct a dat...   \n",
       "3  <p>This is probably very simple, but I simply ...   \n",
       "4  <pre><code>function modify(.......)\\n{\\n  $mco...   \n",
       "\n",
       "                                                Tags  \n",
       "0  php image-processing file-upload upload mime-t...  \n",
       "1                                            firefox  \n",
       "2                          r matlab machine-learning  \n",
       "3                                    c# url encoding  \n",
       "4                          php api file-get-contents  "
      ]
     },
     "execution_count": 170,
     "metadata": {},
     "output_type": "execute_result"
    }
   ],
   "source": [
    "filename = 'Train.csv'\n",
    "no_of_rows = 10000\n",
    "df = pd.read_csv(filename, nrows = no_of_rows)\n",
    "print(df.shape)\n",
    "df.head()    "
   ]
  },
  {
   "cell_type": "markdown",
   "metadata": {},
   "source": [
    "## Data Cleaning\n",
    "[Top](#Part-1:-Data-Processing)\n",
    "\n",
    "Remove unnecessary characters, html format and punctuation (but keeping words like c# since it's the most popular tag) as well as lowering text, transforming abbreviations, lemmatizing words and removing stop words from `Title` and `Body` column.\n",
    "\n",
    "Lemmatization is the process of grouping together the different inflected forms of a word so they can be analyzed as a single item. Lemmatization is similar to stemming but it brings context to the words. So it links words with similar meaning to one word.\n",
    "\n",
    "The process of converting data to something a computer can understand is referred to as pre-processing. One of the major forms of pre-processing is to filter out useless data. In natural language processing, useless words (data) are referred to as stop words."
   ]
  },
  {
   "cell_type": "code",
   "execution_count": 171,
   "metadata": {},
   "outputs": [],
   "source": [
    "def clean_text(text):\n",
    "    text = text.lower()\n",
    "    text = re.sub(r\"what's\", \"what is \", text)\n",
    "    text = re.sub(r\"\\'s\", \" \", text)\n",
    "    text = re.sub(r\"\\'ve\", \" have \", text)\n",
    "    text = re.sub(r\"can't\", \"can not \", text)\n",
    "    text = re.sub(r\"n't\", \" not \", text)\n",
    "    text = re.sub(r\"i'm\", \"i am \", text)\n",
    "    text = re.sub(r\"\\'re\", \" are \", text)\n",
    "    text = re.sub(r\"\\'d\", \" would \", text)\n",
    "    text = re.sub(r\"\\'ll\", \" will \", text)\n",
    "    text = re.sub(r\"\\'scuse\", \" excuse \", text)\n",
    "    text = re.sub(r\"\\'\\n\", \" \", text)\n",
    "    text = re.sub(r\"\\'\\xa0\", \" \", text)\n",
    "    text = re.sub('\\s+', ' ', text)\n",
    "    text = text.strip(' ')\n",
    "    \n",
    "    return text"
   ]
  },
  {
   "cell_type": "code",
   "execution_count": 172,
   "metadata": {},
   "outputs": [],
   "source": [
    "def strip_list_noempty(mylist):\n",
    "    newlist = (item.strip() if hasattr(item, 'strip') else item for item in mylist)\n",
    "    \n",
    "    return [item for item in newlist if item != '']"
   ]
  },
  {
   "cell_type": "code",
   "execution_count": 173,
   "metadata": {},
   "outputs": [],
   "source": [
    "def clean_punct(text): \n",
    "    words = token.tokenize(text)\n",
    "    punctuation_filtered = []\n",
    "    regex = re.compile('[%s]' % re.escape(punct))\n",
    "    remove_punctuation = str.maketrans(' ', ' ', punct)\n",
    "    \n",
    "    for w in words:\n",
    "        if w in tags_features:\n",
    "            punctuation_filtered.append(w)\n",
    "        else:\n",
    "            punctuation_filtered.append(regex.sub('', w))\n",
    "  \n",
    "    filtered_list = strip_list_noempty(punctuation_filtered)\n",
    "        \n",
    "    return ' '.join(map(str, filtered_list))"
   ]
  },
  {
   "cell_type": "markdown",
   "metadata": {},
   "source": [
    "In grammar, inflection is the modification of a word to express different grammatical categories such as tense, case, voice, aspect, person, number, gender, and mood. An inflection expresses one or more grammatical categories with a prefix, suffix or infix, or another internal modification such as a vowel change.\n",
    "\n",
    "**Lemmatization** is the process of grouping together the different inflected forms of a word so they can be analysed as a single item. Lemmatization reduces the inflected words properly ensuring that the root word belongs to the language. In Lemmatization root word is called Lemma. A lemma (plural lemmas or lemmata) is the canonical form, dictionary form, or citation form of a set of words. Lemmatization is similar to stemming but it brings context to the words. So it links words with similar meaning to one word. "
   ]
  },
  {
   "cell_type": "code",
   "execution_count": 174,
   "metadata": {},
   "outputs": [],
   "source": [
    "def lemitizeWords(text):\n",
    "    words = token.tokenize(text)\n",
    "    listLemma = []\n",
    "    \n",
    "    for w in words:\n",
    "        x = lemma.lemmatize(w, pos = \"v\")\n",
    "        listLemma.append(x)\n",
    "        \n",
    "    return ' '.join(map(str, listLemma))"
   ]
  },
  {
   "cell_type": "markdown",
   "metadata": {},
   "source": [
    "**Stop Words** are words which do not contain important significance to be used in Search Queries. Usually, these words are filtered out from search queries because they return a vast amount of unnecessary information. Each programming language will give its own list of stop words to use. Mostly they are words that are commonly used in the English language such as 'as, the, be, are' etc."
   ]
  },
  {
   "cell_type": "code",
   "execution_count": 175,
   "metadata": {},
   "outputs": [],
   "source": [
    "def stopWordsRemove(text):\n",
    "    stop_words = set(stopwords.words(\"english\"))    \n",
    "    words = token.tokenize(text)\n",
    "    filtered = [w for w in words if not w in stop_words]\n",
    "    \n",
    "    return ' '.join(map(str, filtered))"
   ]
  },
  {
   "cell_type": "markdown",
   "metadata": {},
   "source": [
    "Cleaning data in the `Body` column."
   ]
  },
  {
   "cell_type": "code",
   "execution_count": 176,
   "metadata": {},
   "outputs": [
    {
     "name": "stdout",
     "output_type": "stream",
     "text": [
      "Wall time: 41.9 s\n"
     ]
    }
   ],
   "source": [
    "%%time\n",
    "# Wall time: 48.9 s\n",
    "\n",
    "flat_list = [item for sublist in df['Tags'].values for item in sublist]\n",
    "keywords = nltk.FreqDist(flat_list)\n",
    "keywords = nltk.FreqDist(keywords)\n",
    "frequencies_words = keywords.most_common(100)\n",
    "tags_features = [word[0] for word in frequencies_words]\n",
    "\n",
    "# ToktokTokenizer is a fast, simple, multilingual tokenizer. \n",
    "token = tok.ToktokTokenizer()\n",
    "lemma = WordNetLemmatizer()\n",
    "punct = '!\"$%&\\'()*,./:;<=>?@[\\\\]^_`{|}~'\n",
    "\n",
    "# Converting html to text in the body\n",
    "df['Body'] = df['Body'].apply(lambda x: bs4.BeautifulSoup(x, 'lxml').get_text()) \n",
    "df['Body'] = df['Body'].apply(lambda x: clean_text(x)) \n",
    "df['Body'] = df['Body'].apply(lambda x: clean_punct(x)) \n",
    "df['Body'] = df['Body'].apply(lambda x: lemitizeWords(x)) \n",
    "df['Body'] = df['Body'].apply(lambda x: stopWordsRemove(x)) "
   ]
  },
  {
   "cell_type": "markdown",
   "metadata": {},
   "source": [
    "Cleaning data in the `Title` column."
   ]
  },
  {
   "cell_type": "code",
   "execution_count": 177,
   "metadata": {},
   "outputs": [
    {
     "name": "stdout",
     "output_type": "stream",
     "text": [
      "Wall time: 9.69 s\n"
     ]
    }
   ],
   "source": [
    "%%time\n",
    "# Wall time: 10.2 s\n",
    "\n",
    "df['Title'] = df['Title'].apply(lambda x: str(x))\n",
    "df['Title'] = df['Title'].apply(lambda x: clean_text(x)) \n",
    "df['Title'] = df['Title'].apply(lambda x: clean_punct(x)) \n",
    "df['Title'] = df['Title'].apply(lambda x: lemitizeWords(x)) \n",
    "df['Title'] = df['Title'].apply(lambda x: stopWordsRemove(x)) "
   ]
  },
  {
   "cell_type": "code",
   "execution_count": 178,
   "metadata": {
    "scrolled": false
   },
   "outputs": [
    {
     "name": "stdout",
     "output_type": "stream",
     "text": [
      "(10000, 4)\n"
     ]
    },
    {
     "data": {
      "text/html": [
       "<div>\n",
       "<style scoped>\n",
       "    .dataframe tbody tr th:only-of-type {\n",
       "        vertical-align: middle;\n",
       "    }\n",
       "\n",
       "    .dataframe tbody tr th {\n",
       "        vertical-align: top;\n",
       "    }\n",
       "\n",
       "    .dataframe thead th {\n",
       "        text-align: right;\n",
       "    }\n",
       "</style>\n",
       "<table border=\"1\" class=\"dataframe\">\n",
       "  <thead>\n",
       "    <tr style=\"text-align: right;\">\n",
       "      <th></th>\n",
       "      <th>Id</th>\n",
       "      <th>Title</th>\n",
       "      <th>Body</th>\n",
       "      <th>Tags</th>\n",
       "    </tr>\n",
       "  </thead>\n",
       "  <tbody>\n",
       "    <tr>\n",
       "      <th>0</th>\n",
       "      <td>1</td>\n",
       "      <td>check upload file image without mime type</td>\n",
       "      <td>would like check upload file image file eg png...</td>\n",
       "      <td>php image-processing file-upload upload mime-t...</td>\n",
       "    </tr>\n",
       "    <tr>\n",
       "      <th>1</th>\n",
       "      <td>2</td>\n",
       "      <td>prevent firefox close press ctrl-w</td>\n",
       "      <td>favorite editor vim regularly use ctrl-w execu...</td>\n",
       "      <td>firefox</td>\n",
       "    </tr>\n",
       "    <tr>\n",
       "      <th>2</th>\n",
       "      <td>3</td>\n",
       "      <td>r error invalid type list variable</td>\n",
       "      <td>import matlab file construct data frame matlab...</td>\n",
       "      <td>r matlab machine-learning</td>\n",
       "    </tr>\n",
       "    <tr>\n",
       "      <th>3</th>\n",
       "      <td>4</td>\n",
       "      <td>replace special character url</td>\n",
       "      <td>probably simple simply cannot find answer basi...</td>\n",
       "      <td>c# url encoding</td>\n",
       "    </tr>\n",
       "    <tr>\n",
       "      <th>4</th>\n",
       "      <td>5</td>\n",
       "      <td>modify whois contact detail</td>\n",
       "      <td>function modify mcontact filegetcontents https...</td>\n",
       "      <td>php api file-get-contents</td>\n",
       "    </tr>\n",
       "  </tbody>\n",
       "</table>\n",
       "</div>"
      ],
      "text/plain": [
       "   Id                                      Title  \\\n",
       "0   1  check upload file image without mime type   \n",
       "1   2         prevent firefox close press ctrl-w   \n",
       "2   3         r error invalid type list variable   \n",
       "3   4              replace special character url   \n",
       "4   5                modify whois contact detail   \n",
       "\n",
       "                                                Body  \\\n",
       "0  would like check upload file image file eg png...   \n",
       "1  favorite editor vim regularly use ctrl-w execu...   \n",
       "2  import matlab file construct data frame matlab...   \n",
       "3  probably simple simply cannot find answer basi...   \n",
       "4  function modify mcontact filegetcontents https...   \n",
       "\n",
       "                                                Tags  \n",
       "0  php image-processing file-upload upload mime-t...  \n",
       "1                                            firefox  \n",
       "2                          r matlab machine-learning  \n",
       "3                                    c# url encoding  \n",
       "4                          php api file-get-contents  "
      ]
     },
     "execution_count": 178,
     "metadata": {},
     "output_type": "execute_result"
    }
   ],
   "source": [
    "print(df.shape)\n",
    "df.head()"
   ]
  },
  {
   "cell_type": "markdown",
   "metadata": {},
   "source": [
    "## Analysis of Tags\n",
    "[Top](#Part-1:-Data-Processing)\n",
    "\n",
    "Text preprocessing, tokenizing and filtering of stopwords are all included in `CountVectorizer` which builds a dictionary of features and transforms documents to feature vectors."
   ]
  },
  {
   "cell_type": "code",
   "execution_count": 179,
   "metadata": {},
   "outputs": [
    {
     "name": "stdout",
     "output_type": "stream",
     "text": [
      "Number of data points : 10000\n",
      "Number of unique tags : 6124\n"
     ]
    }
   ],
   "source": [
    "# using split() to tokenize each tag using space.\n",
    "vectorizer = CountVectorizer(tokenizer = lambda x: x.split())\n",
    "\n",
    "# fit_transform() does two functions: \n",
    "# 1. it fits the model and learns the vocabulary; \n",
    "# 2. it transforms training data into feature vectors. The input to fit_transform should be a list of strings.\n",
    "tags = vectorizer.fit_transform(df['Tags'])\n",
    "\n",
    "print(\"Number of data points :\", tags.shape[0])\n",
    "print(\"Number of unique tags :\", tags.shape[1])"
   ]
  },
  {
   "cell_type": "code",
   "execution_count": 180,
   "metadata": {
    "scrolled": false
   },
   "outputs": [
    {
     "name": "stdout",
     "output_type": "stream",
     "text": [
      "Some of the tags found in the dataset:\n",
      "['.htaccess', '.net', '.net-2.0', '.net-3.5', '.net-4.0', '.net-4.5', '.net-assembly', '.net-framework', '.net4.0', '.refresh']\n"
     ]
    }
   ],
   "source": [
    "# get_feature_name() gives the vocabulary.\n",
    "tags_feat = vectorizer.get_feature_names()\n",
    "\n",
    "print(\"Some of the tags found in the dataset:\")\n",
    "print(tags_feat[:10])"
   ]
  },
  {
   "cell_type": "code",
   "execution_count": 181,
   "metadata": {},
   "outputs": [
    {
     "name": "stdout",
     "output_type": "stream",
     "text": [
      "Total datapoints: 10000\n",
      "Number of tags for the first 10 questions: [5, 1, 3, 3, 3, 3, 1, 3, 3, 5]\n"
     ]
    }
   ],
   "source": [
    "# Storing the count of tag in each question to list 'tag_count'\n",
    "tag_count = tags.sum(axis = 1).tolist()\n",
    "\n",
    "# Converting each value in the 'tag_count' to integer.\n",
    "tag_count = [int(j) for i in tag_count for j in i]\n",
    "\n",
    "print('Total datapoints:', len(tag_count))\n",
    "print('Number of tags for the first 10 questions:', tag_count[:10]) "
   ]
  },
  {
   "cell_type": "code",
   "execution_count": 182,
   "metadata": {
    "scrolled": true
   },
   "outputs": [
    {
     "data": {
      "image/png": "[encoded data removed]",
      "text/plain": [
       "<Figure size 432x288 with 1 Axes>"
      ]
     },
     "metadata": {},
     "output_type": "display_data"
    }
   ],
   "source": [
    "sns.countplot(tag_count, palette = 'gist_rainbow')\n",
    "plt.title(\"Number of Tags in The Questions \")\n",
    "plt.xlabel(\"Number of Tags\")\n",
    "plt.ylabel(\"Number of questions\")\n",
    "plt.show()"
   ]
  },
  {
   "cell_type": "code",
   "execution_count": 183,
   "metadata": {
    "scrolled": true
   },
   "outputs": [
    {
     "data": {
      "text/html": [
       "<div>\n",
       "<style scoped>\n",
       "    .dataframe tbody tr th:only-of-type {\n",
       "        vertical-align: middle;\n",
       "    }\n",
       "\n",
       "    .dataframe tbody tr th {\n",
       "        vertical-align: top;\n",
       "    }\n",
       "\n",
       "    .dataframe thead th {\n",
       "        text-align: right;\n",
       "    }\n",
       "</style>\n",
       "<table border=\"1\" class=\"dataframe\">\n",
       "  <thead>\n",
       "    <tr style=\"text-align: right;\">\n",
       "      <th></th>\n",
       "      <th>Tags</th>\n",
       "      <th>Frequency</th>\n",
       "    </tr>\n",
       "  </thead>\n",
       "  <tbody>\n",
       "    <tr>\n",
       "      <th>0</th>\n",
       "      <td>.htaccess</td>\n",
       "      <td>40</td>\n",
       "    </tr>\n",
       "    <tr>\n",
       "      <th>1</th>\n",
       "      <td>.net</td>\n",
       "      <td>302</td>\n",
       "    </tr>\n",
       "    <tr>\n",
       "      <th>2</th>\n",
       "      <td>.net-2.0</td>\n",
       "      <td>6</td>\n",
       "    </tr>\n",
       "    <tr>\n",
       "      <th>3</th>\n",
       "      <td>.net-3.5</td>\n",
       "      <td>7</td>\n",
       "    </tr>\n",
       "    <tr>\n",
       "      <th>4</th>\n",
       "      <td>.net-4.0</td>\n",
       "      <td>10</td>\n",
       "    </tr>\n",
       "  </tbody>\n",
       "</table>\n",
       "</div>"
      ],
      "text/plain": [
       "        Tags  Frequency\n",
       "0  .htaccess         40\n",
       "1       .net        302\n",
       "2   .net-2.0          6\n",
       "3   .net-3.5          7\n",
       "4   .net-4.0         10"
      ]
     },
     "execution_count": 183,
     "metadata": {},
     "output_type": "execute_result"
    }
   ],
   "source": [
    "# count frequency of each tag\n",
    "freqs = tags.sum(axis = 0).A1 \n",
    "tags_freq = pd.DataFrame(tags_feat, columns = ['Tags'])\n",
    "tags_freq['Frequency'] = freqs\n",
    "tags_freq.head()"
   ]
  },
  {
   "cell_type": "code",
   "execution_count": 184,
   "metadata": {
    "scrolled": true
   },
   "outputs": [
    {
     "data": {
      "text/html": [
       "<div>\n",
       "<style scoped>\n",
       "    .dataframe tbody tr th:only-of-type {\n",
       "        vertical-align: middle;\n",
       "    }\n",
       "\n",
       "    .dataframe tbody tr th {\n",
       "        vertical-align: top;\n",
       "    }\n",
       "\n",
       "    .dataframe thead th {\n",
       "        text-align: right;\n",
       "    }\n",
       "</style>\n",
       "<table border=\"1\" class=\"dataframe\">\n",
       "  <thead>\n",
       "    <tr style=\"text-align: right;\">\n",
       "      <th></th>\n",
       "      <th>Tags</th>\n",
       "      <th>Frequency</th>\n",
       "    </tr>\n",
       "  </thead>\n",
       "  <tbody>\n",
       "    <tr>\n",
       "      <th>674</th>\n",
       "      <td>c#</td>\n",
       "      <td>778</td>\n",
       "    </tr>\n",
       "    <tr>\n",
       "      <th>2666</th>\n",
       "      <td>java</td>\n",
       "      <td>703</td>\n",
       "    </tr>\n",
       "    <tr>\n",
       "      <th>3937</th>\n",
       "      <td>php</td>\n",
       "      <td>701</td>\n",
       "    </tr>\n",
       "    <tr>\n",
       "      <th>2685</th>\n",
       "      <td>javascript</td>\n",
       "      <td>624</td>\n",
       "    </tr>\n",
       "    <tr>\n",
       "      <th>179</th>\n",
       "      <td>android</td>\n",
       "      <td>518</td>\n",
       "    </tr>\n",
       "  </tbody>\n",
       "</table>\n",
       "</div>"
      ],
      "text/plain": [
       "            Tags  Frequency\n",
       "674           c#        778\n",
       "2666        java        703\n",
       "3937         php        701\n",
       "2685  javascript        624\n",
       "179      android        518"
      ]
     },
     "execution_count": 184,
     "metadata": {},
     "output_type": "execute_result"
    }
   ],
   "source": [
    "# sort each tag in descending order according ot the number of occurence\n",
    "sorted_tags = tags_freq.sort_values(['Frequency'], ascending = False) \n",
    "sorted_tags.head()"
   ]
  },
  {
   "cell_type": "code",
   "execution_count": 185,
   "metadata": {},
   "outputs": [
    {
     "data": {
      "image/png": "[encoded data removed]",
      "text/plain": [
       "<Figure size 1296x432 with 1 Axes>"
      ]
     },
     "metadata": {},
     "output_type": "display_data"
    }
   ],
   "source": [
    "i = np.arange(30)\n",
    "sorted_tags.head(30).plot(figsize = (18, 6), kind = 'bar')\n",
    "plt.title('Frequency of Top 30 Tags')\n",
    "plt.xticks(i, sorted_tags['Tags'])\n",
    "plt.xlabel('Tags')\n",
    "plt.ylabel('Frequency')\n",
    "plt.show()"
   ]
  },
  {
   "cell_type": "markdown",
   "metadata": {},
   "source": [
    "## Part 2: Machine Learning Models\n",
    "### Bag of Words\n",
    "[Top](#Part-2:-Machine-Learning-Models)\n",
    "\n",
    "**Bag of Words** is a simplifying representation used in natural language processing and information retrieval (IR). In this model, a text (such as a sentence or a document) is represented as the bag (multiset) of its words, disregarding grammar and even word order but keeping multiplicity. \n",
    "\n",
    "The input data is in the form of words and characters. So it needs to be converted into numeric format that the model can understand. An array of the top words will be created and a comment will be represented by a dense vector with 0 or 1 indicating the absence or presence of a given keyword or tag from the vocabulary in a comment."
   ]
  },
  {
   "cell_type": "code",
   "execution_count": 186,
   "metadata": {
    "scrolled": false
   },
   "outputs": [
    {
     "name": "stdout",
     "output_type": "stream",
     "text": [
      "(10000, 5)\n"
     ]
    },
    {
     "data": {
      "text/html": [
       "<div>\n",
       "<style scoped>\n",
       "    .dataframe tbody tr th:only-of-type {\n",
       "        vertical-align: middle;\n",
       "    }\n",
       "\n",
       "    .dataframe tbody tr th {\n",
       "        vertical-align: top;\n",
       "    }\n",
       "\n",
       "    .dataframe thead th {\n",
       "        text-align: right;\n",
       "    }\n",
       "</style>\n",
       "<table border=\"1\" class=\"dataframe\">\n",
       "  <thead>\n",
       "    <tr style=\"text-align: right;\">\n",
       "      <th></th>\n",
       "      <th>Id</th>\n",
       "      <th>Title</th>\n",
       "      <th>Body</th>\n",
       "      <th>Tags</th>\n",
       "      <th>Post</th>\n",
       "    </tr>\n",
       "  </thead>\n",
       "  <tbody>\n",
       "    <tr>\n",
       "      <th>0</th>\n",
       "      <td>1</td>\n",
       "      <td>check upload file image without mime type</td>\n",
       "      <td>would like check upload file image file eg png...</td>\n",
       "      <td>php image-processing file-upload upload mime-t...</td>\n",
       "      <td>check upload file image without mime type woul...</td>\n",
       "    </tr>\n",
       "    <tr>\n",
       "      <th>1</th>\n",
       "      <td>2</td>\n",
       "      <td>prevent firefox close press ctrl-w</td>\n",
       "      <td>favorite editor vim regularly use ctrl-w execu...</td>\n",
       "      <td>firefox</td>\n",
       "      <td>prevent firefox close press ctrl-w favorite ed...</td>\n",
       "    </tr>\n",
       "    <tr>\n",
       "      <th>2</th>\n",
       "      <td>3</td>\n",
       "      <td>r error invalid type list variable</td>\n",
       "      <td>import matlab file construct data frame matlab...</td>\n",
       "      <td>r matlab machine-learning</td>\n",
       "      <td>r error invalid type list variable import matl...</td>\n",
       "    </tr>\n",
       "    <tr>\n",
       "      <th>3</th>\n",
       "      <td>4</td>\n",
       "      <td>replace special character url</td>\n",
       "      <td>probably simple simply cannot find answer basi...</td>\n",
       "      <td>c# url encoding</td>\n",
       "      <td>replace special character url probably simple ...</td>\n",
       "    </tr>\n",
       "    <tr>\n",
       "      <th>4</th>\n",
       "      <td>5</td>\n",
       "      <td>modify whois contact detail</td>\n",
       "      <td>function modify mcontact filegetcontents https...</td>\n",
       "      <td>php api file-get-contents</td>\n",
       "      <td>modify whois contact detail function modify mc...</td>\n",
       "    </tr>\n",
       "  </tbody>\n",
       "</table>\n",
       "</div>"
      ],
      "text/plain": [
       "   Id                                      Title  \\\n",
       "0   1  check upload file image without mime type   \n",
       "1   2         prevent firefox close press ctrl-w   \n",
       "2   3         r error invalid type list variable   \n",
       "3   4              replace special character url   \n",
       "4   5                modify whois contact detail   \n",
       "\n",
       "                                                Body  \\\n",
       "0  would like check upload file image file eg png...   \n",
       "1  favorite editor vim regularly use ctrl-w execu...   \n",
       "2  import matlab file construct data frame matlab...   \n",
       "3  probably simple simply cannot find answer basi...   \n",
       "4  function modify mcontact filegetcontents https...   \n",
       "\n",
       "                                                Tags  \\\n",
       "0  php image-processing file-upload upload mime-t...   \n",
       "1                                            firefox   \n",
       "2                          r matlab machine-learning   \n",
       "3                                    c# url encoding   \n",
       "4                          php api file-get-contents   \n",
       "\n",
       "                                                Post  \n",
       "0  check upload file image without mime type woul...  \n",
       "1  prevent firefox close press ctrl-w favorite ed...  \n",
       "2  r error invalid type list variable import matl...  \n",
       "3  replace special character url probably simple ...  \n",
       "4  modify whois contact detail function modify mc...  "
      ]
     },
     "execution_count": 186,
     "metadata": {},
     "output_type": "execute_result"
    }
   ],
   "source": [
    "df['Post'] = df['Title'].map(str) + \" \" + df['Body']\n",
    "print(df.shape)\n",
    "df.head()"
   ]
  },
  {
   "cell_type": "markdown",
   "metadata": {},
   "source": [
    "**TF-IDF** is an acronym than stands for 'Term Frequency – Inverse Document Frequency' which are the components of the resulting scores assigned to each word.\n",
    "\n",
    "* Term Frequency summarizes how often a given word appears within a document.\n",
    "* Inverse Document Frequency downscales words that appear a lot across documents.\n",
    "\n",
    "TF-IDF are word frequency scores that try to highlight words that are more interesting or frequent found in document but not across documents. `TfidfVectorizer` tokenizes documents, learns the vocabulary and inverses document frequency weightings and to encode new documents. It convert texts to a matrix of TF-IDF features.\n",
    "\n",
    "`CountVectorizer` on the other hand converts a collection of text documents to a matrix of token counts.\n",
    "\n",
    "Setting train and test split ratio to 80/20 for train and test dataset."
   ]
  },
  {
   "cell_type": "code",
   "execution_count": 187,
   "metadata": {},
   "outputs": [
    {
     "name": "stdout",
     "output_type": "stream",
     "text": [
      "(8000, 200000) (2000, 200000) (8000, 500) (2000, 500)\n"
     ]
    }
   ],
   "source": [
    "tfidf_vectorizer = TfidfVectorizer(min_df = 0.00009, max_features = 200000, smooth_idf = True, norm = \"l2\", \n",
    "                                   tokenizer = lambda x: x.split(), sublinear_tf = False, ngram_range = (1, 2))\n",
    "count_vectorizer = CountVectorizer(tokenizer = lambda x: x.split(), binary = 'true', max_features = 500)\n",
    "\n",
    "vectorize_post = tfidf_vectorizer.fit_transform(df['Post'])\n",
    "vectorize_tags = count_vectorizer.fit_transform(df['Tags'])\n",
    "\n",
    "x_train, x_test, y_train, y_test = train_test_split(vectorize_post, vectorize_tags, random_state = 42, test_size = 0.2, \n",
    "                                                    shuffle = False)\n",
    "print(x_train.shape, x_test.shape, y_train.shape, y_test.shape)"
   ]
  },
  {
   "cell_type": "markdown",
   "metadata": {},
   "source": [
    "Some of the keywords found in vectorized `Post` column:"
   ]
  },
  {
   "cell_type": "code",
   "execution_count": 188,
   "metadata": {},
   "outputs": [
    {
     "name": "stdout",
     "output_type": "stream",
     "text": [
      "['apply two', 'apply update', 'apply value', 'apply would', 'apply-templates', 'apply-templates select', 'apply-templates table', 'apply-templates xsl', 'applycommand', 'applycommand get', 'applycommand new', 'applycommand null', 'applycommand public', 'applyconfiguration', 'applyfilters', 'applyrelops', 'applyrelops df', 'applyrequestvalues', 'applyrequestvalues 2', 'appmainloop', 'appmanager-findbyappleid', 'appmanager-findbyappleid 547409501', 'appmobi', 'appmodel', 'appmonster', 'appname', 'appointment', 'appointmentid', 'appointments', 'appointmentstatusid', 'appostrophes', 'apppath', 'appphp', 'apprakefile', 'apprakefile 7', 'appreaciated', 'appreciate', 'appreciate -', 'appreciate --', 'appreciate .', 'appreciate answer', 'appreciate anyone', 'appreciate assistance', 'appreciate cheer', 'appreciate code', 'appreciate could', 'appreciate define', 'appreciate edit', 'appreciate feedback', 'appreciate follow']\n"
     ]
    }
   ],
   "source": [
    "print(tfidf_vectorizer.get_feature_names()[20000:20050])"
   ]
  },
  {
   "cell_type": "markdown",
   "metadata": {},
   "source": [
    "Some of the tags found in vectorized `Tags` column:"
   ]
  },
  {
   "cell_type": "code",
   "execution_count": 189,
   "metadata": {},
   "outputs": [
    {
     "name": "stdout",
     "output_type": "stream",
     "text": [
      "['http', 'https', 'ide', 'if-statement', 'iis', 'iis7', 'image', 'image-processing', 'import', 'index', 'inheritance', 'input', 'insert', 'installation', 'interface', 'interface-builder', 'internet-explorer', 'ios', 'ios4', 'ios5', 'ios6', 'ipad', 'iphone', 'iphone-sdk-4.0', 'iptables', 'jar', 'java', 'java-ee', 'javascript', 'javascript-events', 'join', 'joomla', 'jpa', 'jqgrid', 'jquery', 'jquery-ajax', 'jquery-mobile', 'jquery-plugins', 'jquery-selectors', 'jquery-ui', 'jsf', 'jsf-2', 'json', 'jsp', 'jvm', 'keyboard', 'lambda', 'layout', 'licensing', 'limit']\n"
     ]
    }
   ],
   "source": [
    "print(count_vectorizer.get_feature_names()[200:250])"
   ]
  },
  {
   "cell_type": "markdown",
   "metadata": {},
   "source": [
    "## OneVsRestClassifier with SGDClassifier\n",
    "[Top](#Part-2:-Machine-Learning-Models)\n",
    "\n",
    "`One-vs-the-rest` strategy consists in fitting one classifier per class. For each classifier, the class is fitted against all the other classes.  In addition to its computational efficiency (only n_classes classifiers are needed), one advantage of this approach is its interpretability. Since each class is represented by one and one classifier only, it is possible to gain knowledge about the class by inspecting its corresponding classifier. This is the most commonly used strategy for multiclass classification and is a fair default choice.\n",
    "\n",
    "`SGDClassifier` is a Linear classifiers (SVM, logistic regression) with SGD training. This estimator implements regularized linear models with stochastic gradient descent (SGD) learning: the gradient of the loss is estimated each sample at a time and the model is updated along the way with a decreasing strength schedule (aka learning rate). The model it fits can be controlled with the loss parameter. By default, it fits a linear support vector machine (SVM)."
   ]
  },
  {
   "cell_type": "code",
   "execution_count": 190,
   "metadata": {},
   "outputs": [],
   "source": [
    "def train_model(model, x_train, x_test, y_train, y_test):\n",
    "    model_name = model\n",
    "    model_name.fit(x_train, y_train)\n",
    "    y_pred = model_name.predict(x_test)\n",
    "\n",
    "    f1 = f1_score(y_test, y_pred, average = 'micro')\n",
    "    precision = precision_score(y_test, y_pred, average = 'micro')\n",
    "    recall = recall_score(y_test, y_pred, average = 'micro')\n",
    "    accuracy = accuracy_score(y_test, y_pred)\n",
    "\n",
    "    # Evaluation Metrics \n",
    "    print(\"Micro F1 Score: %.3f\" % (f1))\n",
    "    print(\"Micro Precision: %.3f\" % (precision))\n",
    "    print(\"Micro Recall: %.3f\" % (recall))\n",
    "    print(\"Accuracy: %.3f\" % (accuracy))\n",
    "    \n",
    "    return f1, precision, recall, accuracy, y_pred"
   ]
  },
  {
   "cell_type": "code",
   "execution_count": 191,
   "metadata": {},
   "outputs": [
    {
     "name": "stdout",
     "output_type": "stream",
     "text": [
      "Micro F1 Score: 0.345\n",
      "Micro Precision: 0.745\n",
      "Micro Recall: 0.225\n",
      "Accuracy: 0.187\n",
      "Wall time: 46 s\n"
     ]
    }
   ],
   "source": [
    "%%time\n",
    "# Wall time: 1min 2s\n",
    "\n",
    "sgd = SGDClassifier(loss = 'log', alpha = 0.00001, penalty = 'l1') \n",
    "sgd_f1, sgd_precision, sgd_recall, sgd_accuracy, y_pred_sgd = train_model(OneVsRestClassifier(sgd, n_jobs = -1), \n",
    "                                                                          x_train, x_test, y_train, y_test)"
   ]
  },
  {
   "cell_type": "markdown",
   "metadata": {},
   "source": [
    "## OneVsRestClassifier with DecisionTreeClassifier\n",
    "[Top](#Part-2:-Machine-Learning-Models)\n",
    "\n",
    "`DecisionTreeClassifier` is a class capable of performing multi-class classification on a dataset. As with other classifiers, it takes inputs as two arrays: an array X holding the training samples and an array Y of integer values holding the class labels for the training samples."
   ]
  },
  {
   "cell_type": "code",
   "execution_count": 201,
   "metadata": {},
   "outputs": [
    {
     "name": "stdout",
     "output_type": "stream",
     "text": [
      "Micro F1 Score: 0.408\n",
      "Micro Precision: 0.441\n",
      "Micro Recall: 0.379\n",
      "Accuracy: 0.139\n",
      "Wall time: 17min 22s\n"
     ]
    }
   ],
   "source": [
    "%%time\n",
    "# Wall time: 17min 22s\n",
    "\n",
    "dtc = DecisionTreeClassifier() \n",
    "dt_f1, dt_precision, dt_recall, dt_accuracy, y_pred_dt = train_model(OneVsRestClassifier(dtc, n_jobs = -1), \n",
    "                                                                     x_train, x_test, y_train, y_test)"
   ]
  },
  {
   "cell_type": "markdown",
   "metadata": {},
   "source": [
    "## OneVsRestClassifier with RidgeClassifier\n",
    "[Top](#Part-2:-Machine-Learning-Models)\n",
    "\n",
    "It is a classifier using Ridge regression. Ridge regression avoids over-fitting by regularising the weights to keep them small and model selection is straight forward because only have to choose the value of a single regression parameter. Sometimes model selection becomes difficult as there is a degree of freedom for each feature which makes it possible to over-fit the feature selection criterion and might end up with a set of features that is optimal for this particular sample of data but gives poor generalisation performance. So not performing feature selection and using regularisation can often give better predictive performance."
   ]
  },
  {
   "cell_type": "code",
   "execution_count": 202,
   "metadata": {
    "scrolled": true
   },
   "outputs": [
    {
     "name": "stdout",
     "output_type": "stream",
     "text": [
      "Micro F1 Score: 0.186\n",
      "Micro Precision: 0.868\n",
      "Micro Recall: 0.104\n",
      "Accuracy: 0.144\n",
      "Wall time: 5min 3s\n"
     ]
    }
   ],
   "source": [
    "%%time\n",
    "# Wall time: 5min 3s\n",
    "\n",
    "rc = RidgeClassifier() \n",
    "rc_f1, rc_precision, rc_recall, rc_accuracy, y_pred_rc = train_model(OneVsRestClassifier(rc, n_jobs = -1), \n",
    "                                                                     x_train, x_test, y_train, y_test)"
   ]
  },
  {
   "cell_type": "markdown",
   "metadata": {},
   "source": [
    "## OneVsRestClassifier with KNeighborsClassifier\n",
    "[Top](#Part-2:-Machine-Learning-Models)\n",
    "\n",
    "`KNeighborsClassifier` is a classifier implementing the $k$-nearest neighbors vote. It implements learning based on the $k$ nearest neighbors of each query point where $k$ is an integer value specified by the user. The $k$-neighbors classification in `KNeighborsClassifier` is the most commonly used technique. The optimal choice of the value $k$ is highly data-dependent: in general a larger $k$ suppresses the effects of noise but makes the classification boundaries less distinct."
   ]
  },
  {
   "cell_type": "code",
   "execution_count": 203,
   "metadata": {},
   "outputs": [
    {
     "name": "stdout",
     "output_type": "stream",
     "text": [
      "Micro F1 Score: 0.226\n",
      "Micro Precision: 0.598\n",
      "Micro Recall: 0.140\n",
      "Accuracy: 0.143\n",
      "Wall time: 15min 7s\n"
     ]
    }
   ],
   "source": [
    "%%time\n",
    "# Wall time: 15min 7s\n",
    "\n",
    "knc = KNeighborsClassifier()\n",
    "knn_f1, knn_precision, knn_recall, knn_accuracy, y_pred_knn = train_model(OneVsRestClassifier(knc, n_jobs = -1), \n",
    "                                                                          x_train, x_test, y_train, y_test)"
   ]
  },
  {
   "cell_type": "markdown",
   "metadata": {},
   "source": [
    "## OneVsRestClassifier with ExtraTreesClassifier\n",
    "[Top](#Part-2:-Machine-Learning-Models)\n",
    "\n",
    "`ExtraTreesClassifier` is an ensemble learning method fundamentally based on decision trees. `ExtraTreesClassifier` like RandomForest, randomizes certain decisions and subsets of data to minimize over-learning from the data and overfitting. Like Random Forest, it builds multiple trees and splits nodes using random subsets of features but with two key differences: \n",
    "1. It does not bootstrap observations (meaning it samples without replacement)\n",
    "2. Nodes are split on random splits but not best splits."
   ]
  },
  {
   "cell_type": "code",
   "execution_count": 204,
   "metadata": {},
   "outputs": [
    {
     "name": "stdout",
     "output_type": "stream",
     "text": [
      "Micro F1 Score: 0.075\n",
      "Micro Precision: 0.832\n",
      "Micro Recall: 0.039\n",
      "Accuracy: 0.115\n",
      "Wall time: 11min 57s\n"
     ]
    }
   ],
   "source": [
    "%%time\n",
    "# Wall time: 14min 28s\n",
    "\n",
    "etc = ExtraTreesClassifier() \n",
    "et_f1, et_precision, et_recall, et_accuracy, y_pred_et = train_model(OneVsRestClassifier(etc, n_jobs = -1), \n",
    "                                                                     x_train, x_test, y_train, y_test)"
   ]
  },
  {
   "cell_type": "markdown",
   "metadata": {},
   "source": [
    "## Adapted Algorithm: Multilabel k Nearest Neighbours\n",
    "[Top](#Part-2:-Machine-Learning-Models)\n",
    "\n",
    "`MLkNN` uses k-NearestNeighbors to find nearest examples to a test class and uses Bayesian inference to select assigned labels. It is an adaptation of kNN for multi-label classification. In essence, `ML-kNN` uses the `kNN` algorithm independently for each label. It finds the k nearest examples to the test instance and considers those that are labeled at least with l as positive and the rest as negative. What mainly differentiates this method from other binary relevance (BR) methods is the use of prior probabilities. It can also rank labels."
   ]
  },
  {
   "cell_type": "code",
   "execution_count": 205,
   "metadata": {},
   "outputs": [
    {
     "name": "stdout",
     "output_type": "stream",
     "text": [
      "Micro F1 Score: 0.254\n",
      "Micro Precision: 0.574\n",
      "Micro Recall: 0.163\n",
      "Accuracy: 0.149\n",
      "Wall time: 3min 52s\n"
     ]
    }
   ],
   "source": [
    "%%time\n",
    "# Wall time: 4min 36s\n",
    "\n",
    "MLkNN_f1, MLkNN_precision, MLkNN_recall, MLkNN_accuracy, y_predMLkNN = train_model(MLkNN(k = 10), \n",
    "                                                                                   x_train, x_test, y_train, y_test)"
   ]
  },
  {
   "cell_type": "markdown",
   "metadata": {},
   "source": [
    "## Evaluation Metrics for Different Models\n",
    "[Top](#Part-2:-Machine-Learning-Models)\n",
    "\n",
    "The table below shows that `DecisionTreeClassifier` gives the highest Micro F1 Score. This classifier will be fine-tuned before making predictions. Micro F1-Score is used here because more weightages are given on how frequently the tags occur. Micro F1-Score is taking the tag frequency of occurrence into consideration when it is computing the micro precision and recall. "
   ]
  },
  {
   "cell_type": "code",
   "execution_count": 209,
   "metadata": {
    "scrolled": false
   },
   "outputs": [
    {
     "data": {
      "text/html": [
       "<div>\n",
       "<style scoped>\n",
       "    .dataframe tbody tr th:only-of-type {\n",
       "        vertical-align: middle;\n",
       "    }\n",
       "\n",
       "    .dataframe tbody tr th {\n",
       "        vertical-align: top;\n",
       "    }\n",
       "\n",
       "    .dataframe thead th {\n",
       "        text-align: right;\n",
       "    }\n",
       "</style>\n",
       "<table border=\"1\" class=\"dataframe\">\n",
       "  <thead>\n",
       "    <tr style=\"text-align: right;\">\n",
       "      <th></th>\n",
       "      <th>Micro F1 Score</th>\n",
       "      <th>Micro Precision</th>\n",
       "      <th>Micro Recall</th>\n",
       "      <th>Accuracy</th>\n",
       "    </tr>\n",
       "  </thead>\n",
       "  <tbody>\n",
       "    <tr>\n",
       "      <th>SGDClassifier</th>\n",
       "      <td>0.345477</td>\n",
       "      <td>0.745257</td>\n",
       "      <td>0.224857</td>\n",
       "      <td>0.1870</td>\n",
       "    </tr>\n",
       "    <tr>\n",
       "      <th>DecisionTreeClassifier</th>\n",
       "      <td>0.407625</td>\n",
       "      <td>0.441130</td>\n",
       "      <td>0.378850</td>\n",
       "      <td>0.1385</td>\n",
       "    </tr>\n",
       "    <tr>\n",
       "      <th>RidgeClassifier</th>\n",
       "      <td>0.186375</td>\n",
       "      <td>0.868481</td>\n",
       "      <td>0.104388</td>\n",
       "      <td>0.1445</td>\n",
       "    </tr>\n",
       "    <tr>\n",
       "      <th>KNeighborsClassifier</th>\n",
       "      <td>0.226298</td>\n",
       "      <td>0.598131</td>\n",
       "      <td>0.139548</td>\n",
       "      <td>0.1435</td>\n",
       "    </tr>\n",
       "    <tr>\n",
       "      <th>ExtraTreesClassifier</th>\n",
       "      <td>0.074961</td>\n",
       "      <td>0.832370</td>\n",
       "      <td>0.039248</td>\n",
       "      <td>0.1145</td>\n",
       "    </tr>\n",
       "    <tr>\n",
       "      <th>Multilabel k Nearest Neighbours</th>\n",
       "      <td>0.254191</td>\n",
       "      <td>0.573755</td>\n",
       "      <td>0.163260</td>\n",
       "      <td>0.1490</td>\n",
       "    </tr>\n",
       "  </tbody>\n",
       "</table>\n",
       "</div>"
      ],
      "text/plain": [
       "                                 Micro F1 Score  Micro Precision  \\\n",
       "SGDClassifier                          0.345477         0.745257   \n",
       "DecisionTreeClassifier                 0.407625         0.441130   \n",
       "RidgeClassifier                        0.186375         0.868481   \n",
       "KNeighborsClassifier                   0.226298         0.598131   \n",
       "ExtraTreesClassifier                   0.074961         0.832370   \n",
       "Multilabel k Nearest Neighbours        0.254191         0.573755   \n",
       "\n",
       "                                 Micro Recall  Accuracy  \n",
       "SGDClassifier                        0.224857    0.1870  \n",
       "DecisionTreeClassifier               0.378850    0.1385  \n",
       "RidgeClassifier                      0.104388    0.1445  \n",
       "KNeighborsClassifier                 0.139548    0.1435  \n",
       "ExtraTreesClassifier                 0.039248    0.1145  \n",
       "Multilabel k Nearest Neighbours      0.163260    0.1490  "
      ]
     },
     "execution_count": 209,
     "metadata": {},
     "output_type": "execute_result"
    }
   ],
   "source": [
    "results = pd.DataFrame({'Micro F1 Score': sgd_f1, 'Micro Precision': sgd_precision, 'Micro Recall': sgd_recall, \n",
    "                        'Accuracy': sgd_accuracy}, index = ['SGDClassifier'])\n",
    "results.loc['DecisionTreeClassifier'] = dt_f1, dt_precision, dt_recall, dt_accuracy\n",
    "results.loc['RidgeClassifier'] = rc_f1, rc_precision, rc_recall, rc_accuracy\n",
    "results.loc['KNeighborsClassifier'] = knn_f1, knn_precision, knn_recall, knn_accuracy\n",
    "results.loc['ExtraTreesClassifier'] = et_f1, et_precision, et_recall, et_accuracy\n",
    "results.loc['Multilabel k Nearest Neighbours'] = MLkNN_f1, MLkNN_precision, MLkNN_recall, MLkNN_accuracy\n",
    "results"
   ]
  },
  {
   "cell_type": "markdown",
   "metadata": {},
   "source": [
    "The table below shows the classification report for `DecisionTreeClassifier`. <br>\n",
    "[Skip report](#Tuning-CountVectorizer-to-Fit-DecisionTreeClassifier)"
   ]
  },
  {
   "cell_type": "code",
   "execution_count": 210,
   "metadata": {
    "scrolled": false
   },
   "outputs": [
    {
     "name": "stdout",
     "output_type": "stream",
     "text": [
      "             precision    recall  f1-score   support\n",
      "\n",
      "          0       0.56      0.83      0.67         6\n",
      "          1       0.19      0.09      0.12        65\n",
      "          2       0.00      0.00      0.00         2\n",
      "          3       0.00      0.00      0.00         1\n",
      "          4       0.00      0.00      0.00         3\n",
      "          5       0.00      0.00      0.00         3\n",
      "          6       0.50      0.33      0.40         3\n",
      "          7       1.00      0.38      0.56        13\n",
      "          8       0.25      0.25      0.25         4\n",
      "          9       0.00      0.00      0.00         2\n",
      "         10       0.00      0.00      0.00         4\n",
      "         11       0.00      0.00      0.00         5\n",
      "         12       0.36      0.33      0.34        15\n",
      "         13       0.00      0.00      0.00         3\n",
      "         14       0.22      0.18      0.20        11\n",
      "         15       0.00      0.00      0.00         0\n",
      "         16       1.00      1.00      1.00         1\n",
      "         17       0.00      0.00      0.00         0\n",
      "         18       0.79      0.67      0.73        91\n",
      "         19       0.00      0.00      0.00         4\n",
      "         20       0.00      0.00      0.00         6\n",
      "         21       0.80      0.80      0.80         5\n",
      "         22       0.00      0.00      0.00         1\n",
      "         23       0.25      0.20      0.22         5\n",
      "         24       0.50      0.33      0.40         3\n",
      "         25       0.00      0.00      0.00        10\n",
      "         26       0.14      0.25      0.18         4\n",
      "         27       0.20      0.20      0.20         5\n",
      "         28       0.00      0.00      0.00         2\n",
      "         29       0.00      0.00      0.00         4\n",
      "         30       0.00      0.00      0.00         4\n",
      "         31       0.09      0.05      0.06        21\n",
      "         32       0.80      0.80      0.80         5\n",
      "         33       0.52      0.43      0.47        75\n",
      "         34       0.50      0.43      0.46        21\n",
      "         35       0.00      0.00      0.00         2\n",
      "         36       0.45      0.33      0.38        15\n",
      "         37       0.00      0.00      0.00         2\n",
      "         38       0.33      0.25      0.29         4\n",
      "         39       0.00      0.00      0.00         1\n",
      "         40       0.00      0.00      0.00         0\n",
      "         41       0.57      0.57      0.57         7\n",
      "         42       0.17      0.14      0.15         7\n",
      "         43       0.00      0.00      0.00         2\n",
      "         44       0.00      0.00      0.00         3\n",
      "         45       0.67      1.00      0.80         2\n",
      "         46       0.00      0.00      0.00         1\n",
      "         47       0.40      0.40      0.40         5\n",
      "         48       0.60      0.25      0.35        12\n",
      "         49       0.25      0.50      0.33         2\n",
      "         50       0.00      0.00      0.00         3\n",
      "         51       0.33      0.33      0.33         3\n",
      "         52       0.86      1.00      0.92         6\n",
      "         53       0.00      0.00      0.00         0\n",
      "         54       0.00      0.00      0.00         2\n",
      "         55       0.50      0.50      0.50         2\n",
      "         56       0.00      0.00      0.00         1\n",
      "         57       0.20      0.20      0.20         5\n",
      "         58       0.00      0.00      0.00         3\n",
      "         59       0.38      0.36      0.37        44\n",
      "         60       0.46      0.42      0.44       158\n",
      "         61       0.00      0.00      0.00         4\n",
      "         62       0.59      0.48      0.53        71\n",
      "         63       0.00      0.00      0.00         2\n",
      "         64       0.00      0.00      0.00         4\n",
      "         65       1.00      0.71      0.83         7\n",
      "         66       0.80      0.57      0.67         7\n",
      "         67       0.45      0.50      0.48        10\n",
      "         68       0.00      0.00      0.00         3\n",
      "         69       1.00      0.40      0.57         5\n",
      "         70       0.00      0.00      0.00         1\n",
      "         71       0.00      0.00      0.00         7\n",
      "         72       0.17      1.00      0.29         1\n",
      "         73       0.57      0.36      0.44        11\n",
      "         74       0.08      0.10      0.09        10\n",
      "         75       0.33      1.00      0.50         1\n",
      "         76       0.88      0.50      0.64        14\n",
      "         77       0.00      0.00      0.00         1\n",
      "         78       0.50      0.25      0.33         4\n",
      "         79       0.00      0.00      0.00         0\n",
      "         80       0.00      0.00      0.00         3\n",
      "         81       0.00      0.00      0.00         3\n",
      "         82       0.00      0.00      0.00         2\n",
      "         83       0.00      0.00      0.00         1\n",
      "         84       0.14      0.25      0.18         4\n",
      "         85       1.00      0.33      0.50         3\n",
      "         86       0.00      0.00      0.00         3\n",
      "         87       1.00      0.75      0.86         4\n",
      "         88       0.00      0.00      0.00         3\n",
      "         89       0.00      0.00      0.00         4\n",
      "         90       0.00      0.00      0.00         2\n",
      "         91       1.00      0.33      0.50         3\n",
      "         92       0.40      0.50      0.44         4\n",
      "         93       0.00      0.00      0.00         0\n",
      "         94       0.00      0.00      0.00         1\n",
      "         95       1.00      1.00      1.00         2\n",
      "         96       0.46      0.43      0.45        44\n",
      "         97       0.33      0.33      0.33         3\n",
      "         98       0.33      0.50      0.40         2\n",
      "         99       1.00      0.67      0.80         3\n",
      "        100       0.00      0.00      0.00         3\n",
      "        101       0.00      0.00      0.00         2\n",
      "        102       0.75      0.75      0.75         4\n",
      "        103       0.00      0.00      0.00         3\n",
      "        104       0.00      0.00      0.00         6\n",
      "        105       0.14      0.14      0.14        21\n",
      "        106       0.67      0.40      0.50         5\n",
      "        107       0.00      0.00      0.00         2\n",
      "        108       0.00      0.00      0.00         1\n",
      "        109       0.33      0.17      0.22         6\n",
      "        110       0.75      0.50      0.60         6\n",
      "        111       0.00      0.00      0.00         7\n",
      "        112       0.00      0.00      0.00         0\n",
      "        113       0.00      0.00      0.00         3\n",
      "        114       1.00      0.80      0.89         5\n",
      "        115       0.50      0.50      0.50         2\n",
      "        116       0.00      0.00      0.00         6\n",
      "        117       0.00      0.00      0.00         8\n",
      "        118       0.40      0.33      0.36         6\n",
      "        119       0.00      0.00      0.00         3\n",
      "        120       0.00      0.00      0.00         1\n",
      "        121       0.00      0.00      0.00         1\n",
      "        122       0.00      0.00      0.00         2\n",
      "        123       0.73      0.80      0.76        10\n",
      "        124       0.00      0.00      0.00         2\n",
      "        125       0.00      0.00      0.00         1\n",
      "        126       1.00      0.33      0.50         3\n",
      "        127       0.33      1.00      0.50         1\n",
      "        128       0.00      0.00      0.00         1\n",
      "        129       0.00      0.00      0.00         3\n",
      "        130       0.00      0.00      0.00         1\n",
      "        131       0.75      0.86      0.80         7\n",
      "        132       0.33      0.25      0.29         4\n",
      "        133       0.60      0.56      0.58        16\n",
      "        134       1.00      0.75      0.86         4\n",
      "        135       0.33      0.22      0.27         9\n",
      "        136       0.25      0.25      0.25         4\n",
      "        137       0.40      0.50      0.44         4\n",
      "        138       0.43      0.30      0.35        10\n",
      "        139       1.00      0.25      0.40         4\n",
      "        140       0.00      0.00      0.00         0\n",
      "        141       0.00      0.00      0.00         2\n",
      "        142       0.33      0.40      0.36         5\n",
      "        143       0.36      0.56      0.43         9\n",
      "        144       0.00      0.00      0.00         3\n",
      "        145       0.00      0.00      0.00         2\n",
      "        146       0.00      0.00      0.00         1\n",
      "        147       0.67      1.00      0.80         2\n",
      "        148       0.73      0.50      0.59        16\n",
      "        149       0.50      0.25      0.33         4\n",
      "        150       0.00      0.00      0.00        11\n",
      "        151       0.00      0.00      0.00         1\n",
      "        152       0.00      0.00      0.00         1\n",
      "        153       0.00      0.00      0.00         2\n",
      "        154       0.00      0.00      0.00         3\n",
      "        155       0.40      0.40      0.40         5\n",
      "        156       0.69      0.64      0.67        14\n",
      "        157       0.43      0.43      0.43         7\n",
      "        158       0.00      0.00      0.00         0\n",
      "        159       0.00      0.00      0.00         3\n",
      "        160       0.50      0.17      0.25         6\n",
      "        161       0.00      0.00      0.00         2\n",
      "        162       0.00      0.00      0.00         6\n",
      "        163       0.00      0.00      0.00         4\n",
      "        164       0.00      0.00      0.00         0\n",
      "        165       0.00      0.00      0.00         5\n",
      "        166       0.25      1.00      0.40         1\n",
      "        167       0.00      0.00      0.00         0\n",
      "        168       0.50      1.00      0.67         1\n",
      "        169       0.67      0.50      0.57         4\n",
      "        170       0.50      0.50      0.50         2\n",
      "        171       0.17      1.00      0.29         1\n",
      "        172       0.00      0.00      0.00         4\n",
      "        173       0.60      0.55      0.57        11\n",
      "        174       0.33      0.33      0.33         3\n",
      "        175       0.00      0.00      0.00         4\n",
      "        176       1.00      0.50      0.67         8\n",
      "        177       0.20      0.17      0.18         6\n",
      "        178       0.33      0.50      0.40         4\n",
      "        179       0.20      0.33      0.25         3\n",
      "        180       0.00      0.00      0.00         2\n",
      "        181       1.00      1.00      1.00         3\n",
      "        182       0.00      0.00      0.00         2\n",
      "        183       0.00      0.00      0.00         6\n",
      "        184       0.33      1.00      0.50         1\n",
      "        185       0.00      0.00      0.00         3\n",
      "        186       0.67      1.00      0.80         2\n",
      "        187       0.00      0.00      0.00         3\n",
      "        188       0.00      0.00      0.00         4\n",
      "        189       0.67      1.00      0.80         2\n",
      "        190       0.25      0.50      0.33         2\n",
      "        191       1.00      0.33      0.50         3\n",
      "        192       0.50      0.80      0.62         5\n",
      "        193       0.00      0.00      0.00         3\n",
      "        194       1.00      0.50      0.67         4\n",
      "        195       0.50      1.00      0.67         4\n",
      "        196       0.00      0.00      0.00         7\n",
      "        197       0.20      0.11      0.14        64\n",
      "        198       0.57      0.57      0.57        14\n",
      "        199       0.33      0.67      0.44         3\n",
      "        200       0.00      0.00      0.00         4\n",
      "        201       1.00      1.00      1.00         2\n",
      "        202       0.00      0.00      0.00         1\n",
      "        203       0.00      0.00      0.00         6\n",
      "        204       0.43      0.30      0.35        10\n",
      "        205       0.67      0.89      0.76         9\n",
      "        206       0.33      0.17      0.22        12\n",
      "        207       0.00      0.00      0.00         3\n",
      "        208       0.00      0.00      0.00         3\n",
      "        209       0.00      0.00      0.00         2\n",
      "        210       1.00      0.12      0.22         8\n",
      "        211       0.00      0.00      0.00         3\n",
      "        212       0.00      0.00      0.00         1\n",
      "        213       0.00      0.00      0.00         5\n",
      "        214       0.00      0.00      0.00         0\n",
      "        215       0.33      1.00      0.50         1\n",
      "        216       0.00      0.00      0.00         4\n",
      "        217       0.44      0.40      0.42        40\n",
      "        218       0.00      0.00      0.00         0\n",
      "        219       0.00      0.00      0.00         6\n",
      "        220       0.00      0.00      0.00         2\n",
      "        221       0.38      0.43      0.40         7\n",
      "        222       0.42      0.41      0.42        54\n",
      "        223       0.00      0.00      0.00         5\n",
      "        224       1.00      1.00      1.00         2\n",
      "        225       0.00      0.00      0.00         1\n",
      "        226       0.56      0.51      0.53       138\n",
      "        227       0.00      0.00      0.00         4\n",
      "        228       0.55      0.43      0.49       122\n",
      "        229       0.00      0.00      0.00         4\n",
      "        230       0.33      0.25      0.29         4\n",
      "        231       0.33      0.50      0.40         2\n",
      "        232       1.00      0.33      0.50         3\n",
      "        233       1.00      1.00      1.00         2\n",
      "        234       0.69      0.71      0.70        95\n",
      "        235       0.00      0.00      0.00         8\n",
      "        236       1.00      1.00      1.00         2\n",
      "        237       0.00      0.00      0.00         4\n",
      "        238       0.00      0.00      0.00         1\n",
      "        239       0.40      0.50      0.44         4\n",
      "        240       1.00      0.36      0.53        14\n",
      "        241       0.00      0.00      0.00         2\n",
      "        242       0.20      0.30      0.24        10\n",
      "        243       0.38      0.56      0.45         9\n",
      "        244       0.00      0.00      0.00         1\n",
      "        245       0.00      0.00      0.00         4\n",
      "        246       0.50      0.25      0.33         4\n",
      "        247       0.00      0.00      0.00         2\n",
      "        248       0.00      0.00      0.00         1\n",
      "        249       0.50      0.33      0.40         3\n",
      "        250       0.00      0.00      0.00         3\n",
      "        251       0.56      0.53      0.55        17\n",
      "        252       0.00      0.00      0.00         2\n",
      "        253       0.50      0.67      0.57         3\n",
      "        254       0.44      0.30      0.35        47\n",
      "        255       0.00      0.00      0.00         3\n",
      "        256       0.00      0.00      0.00         5\n",
      "        257       0.00      0.00      0.00         6\n",
      "        258       0.00      0.00      0.00         1\n",
      "        259       0.00      0.00      0.00         2\n",
      "        260       0.25      0.25      0.25         4\n",
      "        261       1.00      0.25      0.40         4\n",
      "        262       0.50      0.20      0.29         5\n",
      "        263       0.00      0.00      0.00         1\n",
      "        264       1.00      1.00      1.00         1\n",
      "        265       0.00      0.00      0.00         1\n",
      "        266       0.00      0.00      0.00         1\n",
      "        267       0.00      0.00      0.00         2\n",
      "        268       0.33      0.20      0.25         5\n",
      "        269       0.88      0.88      0.88         8\n",
      "        270       0.00      0.00      0.00         2\n",
      "        271       0.00      0.00      0.00         2\n",
      "        272       0.00      0.00      0.00         3\n",
      "        273       0.62      0.83      0.71         6\n",
      "        274       0.00      0.00      0.00         0\n",
      "        275       0.50      1.00      0.67         2\n",
      "        276       1.00      1.00      1.00         1\n",
      "        277       0.50      0.25      0.33         8\n",
      "        278       0.00      0.00      0.00         3\n",
      "        279       0.00      0.00      0.00         7\n",
      "        280       0.00      0.00      0.00         1\n",
      "        281       0.00      0.00      0.00         0\n",
      "        282       0.00      0.00      0.00         5\n",
      "        283       0.00      0.00      0.00         2\n",
      "        284       0.00      0.00      0.00         0\n",
      "        285       0.00      0.00      0.00         3\n",
      "        286       0.00      0.00      0.00         3\n",
      "        287       0.80      0.80      0.80         5\n",
      "        288       0.67      0.50      0.57         4\n",
      "        289       0.50      0.50      0.50         2\n",
      "        290       0.50      1.00      0.67         1\n",
      "        291       1.00      0.50      0.67         4\n",
      "        292       0.00      0.00      0.00         3\n",
      "        293       0.33      0.33      0.33        15\n",
      "        294       0.25      0.33      0.29         3\n",
      "        295       1.00      1.00      1.00         1\n",
      "        296       0.61      0.68      0.64        53\n",
      "        297       0.00      0.00      0.00         1\n",
      "        298       0.00      0.00      0.00         1\n",
      "        299       0.00      0.00      0.00        11\n",
      "        300       1.00      1.00      1.00         7\n",
      "        301       0.83      0.83      0.83         6\n",
      "        302       1.00      0.17      0.29         6\n",
      "        303       0.00      0.00      0.00         1\n",
      "        304       0.50      0.33      0.40         3\n",
      "        305       0.50      0.20      0.29         5\n",
      "        306       0.00      0.00      0.00         3\n",
      "        307       0.13      0.11      0.12        37\n",
      "        308       0.00      0.00      0.00         8\n",
      "        309       1.00      1.00      1.00         3\n",
      "        310       0.50      0.67      0.57         3\n",
      "        311       0.00      0.00      0.00         2\n",
      "        312       0.00      0.00      0.00         1\n",
      "        313       0.14      0.17      0.15         6\n",
      "        314       0.59      0.83      0.69        12\n",
      "        315       0.00      0.00      0.00         2\n",
      "        316       0.33      0.31      0.32        16\n",
      "        317       0.00      0.00      0.00         2\n",
      "        318       0.00      0.00      0.00         2\n",
      "        319       1.00      0.25      0.40         4\n",
      "        320       0.00      0.00      0.00         3\n",
      "        321       0.00      0.00      0.00         3\n",
      "        322       0.00      0.00      0.00         8\n",
      "        323       0.83      0.83      0.83         6\n",
      "        324       0.75      0.75      0.75         4\n",
      "        325       0.14      0.12      0.13        17\n",
      "        326       0.62      0.80      0.70        10\n",
      "        327       0.00      0.00      0.00         5\n",
      "        328       0.00      0.00      0.00         0\n",
      "        329       0.75      0.60      0.67         5\n",
      "        330       0.59      0.55      0.57       145\n",
      "        331       0.50      0.14      0.22         7\n",
      "        332       1.00      0.67      0.80         3\n",
      "        333       1.00      0.33      0.50         3\n",
      "        334       0.00      0.00      0.00         3\n",
      "        335       0.00      0.00      0.00         3\n",
      "        336       0.00      0.00      0.00         3\n",
      "        337       0.00      0.00      0.00         0\n",
      "        338       0.67      0.67      0.67         9\n",
      "        339       1.00      0.75      0.86         4\n",
      "        340       1.00      1.00      1.00         1\n",
      "        341       0.00      0.00      0.00         3\n",
      "        342       0.62      0.83      0.71         6\n",
      "        343       0.00      0.00      0.00         2\n",
      "        344       0.33      0.33      0.33         3\n",
      "        345       0.50      0.50      0.50         2\n",
      "        346       0.00      0.00      0.00         1\n",
      "        347       0.00      0.00      0.00         2\n",
      "        348       0.74      0.67      0.70        63\n",
      "        349       1.00      0.62      0.77         8\n",
      "        350       0.00      0.00      0.00        11\n",
      "        351       0.00      0.00      0.00         7\n",
      "        352       0.33      0.33      0.33         3\n",
      "        353       0.00      0.00      0.00         0\n",
      "        354       0.50      0.67      0.57         3\n",
      "        355       0.60      0.38      0.46         8\n",
      "        356       0.00      0.00      0.00         1\n",
      "        357       0.00      0.00      0.00         5\n",
      "        358       0.00      0.00      0.00         1\n",
      "        359       0.73      0.69      0.71        16\n",
      "        360       0.00      0.00      0.00         2\n",
      "        361       0.20      0.25      0.22         4\n",
      "        362       0.00      0.00      0.00         3\n",
      "        363       0.44      0.55      0.49        20\n",
      "        364       0.78      0.78      0.78        36\n",
      "        365       0.33      0.33      0.33        15\n",
      "        366       0.00      0.00      0.00         0\n",
      "        367       0.33      0.33      0.33         3\n",
      "        368       0.33      0.40      0.36         5\n",
      "        369       0.00      0.00      0.00         3\n",
      "        370       0.00      0.00      0.00         5\n",
      "        371       0.00      0.00      0.00         1\n",
      "        372       0.00      0.00      0.00         2\n",
      "        373       0.00      0.00      0.00         4\n",
      "        374       0.25      0.14      0.18         7\n",
      "        375       0.00      0.00      0.00         3\n",
      "        376       0.00      0.00      0.00         1\n",
      "        377       0.50      0.50      0.50         2\n",
      "        378       0.00      0.00      0.00         0\n",
      "        379       0.33      0.50      0.40         2\n",
      "        380       0.75      0.75      0.75         4\n",
      "        381       0.00      0.00      0.00         1\n",
      "        382       1.00      0.20      0.33         5\n",
      "        383       0.12      0.33      0.18         3\n",
      "        384       0.50      0.14      0.22         7\n",
      "        385       0.82      0.93      0.87        15\n",
      "        386       0.00      0.00      0.00         2\n",
      "        387       0.00      0.00      0.00         4\n",
      "        388       0.50      1.00      0.67         2\n",
      "        389       0.00      0.00      0.00         1\n",
      "        390       0.50      1.00      0.67         1\n",
      "        391       0.14      0.25      0.18         4\n",
      "        392       0.00      0.00      0.00         4\n",
      "        393       0.55      0.75      0.63         8\n",
      "        394       0.50      0.50      0.50         2\n",
      "        395       0.32      0.23      0.27        60\n",
      "        396       0.42      0.36      0.38        28\n",
      "        397       0.50      0.44      0.47         9\n",
      "        398       0.12      0.07      0.09        14\n",
      "        399       1.00      0.60      0.75         5\n",
      "        400       0.60      0.60      0.60         5\n",
      "        401       0.50      0.17      0.25        12\n",
      "        402       0.00      0.00      0.00         3\n",
      "        403       0.00      0.00      0.00         1\n",
      "        404       0.50      1.00      0.67         1\n",
      "        405       0.44      1.00      0.62         4\n",
      "        406       0.00      0.00      0.00         1\n",
      "        407       0.00      0.00      0.00         1\n",
      "        408       0.33      0.29      0.31         7\n",
      "        409       0.00      0.00      0.00         1\n",
      "        410       1.00      1.00      1.00         3\n",
      "        411       0.50      1.00      0.67         3\n",
      "        412       0.78      0.88      0.82         8\n",
      "        413       1.00      0.36      0.53        11\n",
      "        414       1.00      0.50      0.67         4\n",
      "        415       0.00      0.00      0.00         2\n",
      "        416       0.00      0.00      0.00         9\n",
      "        417       0.00      0.00      0.00         2\n",
      "        418       0.33      0.17      0.22         6\n",
      "        419       0.33      0.33      0.33         3\n",
      "        420       0.33      0.33      0.33         3\n",
      "        421       0.00      0.00      0.00         4\n",
      "        422       0.00      0.00      0.00         1\n",
      "        423       0.50      0.50      0.50         2\n",
      "        424       0.00      0.00      0.00         0\n",
      "        425       0.50      1.00      0.67         1\n",
      "        426       0.00      0.00      0.00         0\n",
      "        427       0.00      0.00      0.00         3\n",
      "        428       0.00      0.00      0.00         1\n",
      "        429       0.80      0.80      0.80         5\n",
      "        430       0.33      0.11      0.17         9\n",
      "        431       1.00      1.00      1.00         1\n",
      "        432       0.25      0.50      0.33         2\n",
      "        433       0.00      0.00      0.00         1\n",
      "        434       0.22      0.18      0.20        11\n",
      "        435       0.00      0.00      0.00         2\n",
      "        436       0.38      0.50      0.43         6\n",
      "        437       0.00      0.00      0.00         1\n",
      "        438       0.33      1.00      0.50         1\n",
      "        439       0.00      0.00      0.00         2\n",
      "        440       0.33      0.20      0.25         5\n",
      "        441       0.00      0.00      0.00         5\n",
      "        442       0.00      0.00      0.00         2\n",
      "        443       0.33      0.33      0.33         3\n",
      "        444       0.00      0.00      0.00         6\n",
      "        445       0.33      1.00      0.50         2\n",
      "        446       0.33      0.50      0.40         2\n",
      "        447       0.00      0.00      0.00         0\n",
      "        448       0.00      0.00      0.00         0\n",
      "        449       0.67      0.67      0.67         3\n",
      "        450       0.33      0.25      0.29         4\n",
      "        451       0.00      0.00      0.00         2\n",
      "        452       0.43      0.47      0.45        19\n",
      "        453       0.00      0.00      0.00         0\n",
      "        454       0.44      0.67      0.53         6\n",
      "        455       0.50      0.33      0.40         3\n",
      "        456       0.00      0.00      0.00         1\n",
      "        457       0.75      0.50      0.60         6\n",
      "        458       0.00      0.00      0.00         4\n",
      "        459       1.00      1.00      1.00         4\n",
      "        460       1.00      1.00      1.00         1\n",
      "        461       1.00      0.33      0.50         3\n",
      "        462       0.00      0.00      0.00         2\n",
      "        463       0.25      0.25      0.25         8\n",
      "        464       0.20      0.20      0.20         5\n",
      "        465       0.67      0.29      0.40        14\n",
      "        466       0.86      0.75      0.80        16\n",
      "        467       0.00      0.00      0.00         2\n",
      "        468       0.25      0.17      0.20         6\n",
      "        469       0.00      0.00      0.00         5\n",
      "        470       0.36      0.56      0.43         9\n",
      "        471       1.00      0.50      0.67         2\n",
      "        472       0.00      0.00      0.00         1\n",
      "        473       0.00      0.00      0.00         1\n",
      "        474       0.00      0.00      0.00         3\n",
      "        475       0.26      0.19      0.22        37\n",
      "        476       0.35      0.35      0.35        17\n",
      "        477       1.00      0.33      0.50         6\n",
      "        478       0.80      0.50      0.62         8\n",
      "        479       0.20      0.33      0.25         3\n",
      "        480       0.00      0.00      0.00         5\n",
      "        481       0.00      0.00      0.00         4\n",
      "        482       1.00      0.67      0.80         3\n",
      "        483       0.00      0.00      0.00         2\n",
      "        484       0.29      0.40      0.33         5\n",
      "        485       0.12      0.10      0.11        10\n",
      "        486       0.20      1.00      0.33         1\n",
      "        487       0.11      0.09      0.10        11\n",
      "        488       0.50      0.67      0.57         3\n",
      "        489       0.70      0.74      0.72        19\n",
      "        490       0.00      0.00      0.00         3\n",
      "        491       0.00      0.00      0.00         4\n",
      "        492       0.29      0.31      0.30        16\n",
      "        493       0.00      0.00      0.00         2\n",
      "        494       0.48      0.44      0.46        27\n",
      "        495       1.00      0.75      0.86         4\n",
      "        496       0.40      0.67      0.50         3\n",
      "        497       1.00      0.67      0.80         6\n",
      "        498       1.00      0.50      0.67         2\n",
      "        499       0.40      0.50      0.44         4\n",
      "\n",
      "avg / total       0.44      0.38      0.39      3669\n",
      "\n"
     ]
    },
    {
     "name": "stderr",
     "output_type": "stream",
     "text": [
      "C:\\Users\\long\\Anaconda3\\lib\\site-packages\\sklearn\\metrics\\classification.py:1135: UndefinedMetricWarning: Precision and F-score are ill-defined and being set to 0.0 in labels with no predicted samples.\n",
      "  'precision', 'predicted', average, warn_for)\n",
      "C:\\Users\\long\\Anaconda3\\lib\\site-packages\\sklearn\\metrics\\classification.py:1137: UndefinedMetricWarning: Recall and F-score are ill-defined and being set to 0.0 in labels with no true samples.\n",
      "  'recall', 'true', average, warn_for)\n"
     ]
    }
   ],
   "source": [
    "print(classification_report(y_test, y_pred_dt))"
   ]
  },
  {
   "cell_type": "markdown",
   "metadata": {},
   "source": [
    "## Tuning CountVectorizer to Fit DecisionTreeClassifier\n",
    "### Max_features: 50\n",
    "[Top](#Part-2:-Machine-Learning-Models)\n",
    "\n",
    "`max_features` parameter is self-explanatory. It will choose the number of words or features set in its' vocabulary and drop everything else.\n",
    "\n",
    "Setting `max_features` as 50 for `CountVectorizer`."
   ]
  },
  {
   "cell_type": "code",
   "execution_count": 192,
   "metadata": {},
   "outputs": [],
   "source": [
    "def max_features_CountVect(n):\n",
    "    tfidf_vectorizer = TfidfVectorizer(min_df = 0.00009, max_features = 200000, smooth_idf = True, norm = \"l2\", \\\n",
    "                                       tokenizer = lambda x: x.split(), sublinear_tf = False, ngram_range = (1, 2))\n",
    "    count_vectorizer_n = CountVectorizer(tokenizer = lambda x: x.split(), binary = 'true', max_features = n)\n",
    "\n",
    "    vectorize_post = tfidf_vectorizer.fit_transform(df['Post'])\n",
    "    vectorize_tags_n = count_vectorizer_n.fit_transform(df['Tags'])\n",
    "\n",
    "    x_train_n, x_test_n, y_train_n, y_test_n = train_test_split(vectorize_post, vectorize_tags_n, random_state = 42, \n",
    "                                                                test_size = 0.2, shuffle = False)\n",
    "    print(x_train_n.shape, x_test_n.shape, y_train_n.shape, y_test_n.shape)\n",
    "    print()\n",
    "    \n",
    "    return x_train_n, x_test_n, y_train_n, y_test_n, count_vectorizer_n"
   ]
  },
  {
   "cell_type": "code",
   "execution_count": 193,
   "metadata": {},
   "outputs": [
    {
     "name": "stdout",
     "output_type": "stream",
     "text": [
      "(8000, 200000) (2000, 200000) (8000, 50) (2000, 50)\n",
      "\n",
      "Micro F1 Score: 0.469\n",
      "Micro Precision: 0.506\n",
      "Micro Recall: 0.438\n",
      "Accuracy: 0.376\n",
      "Wall time: 3min 26s\n"
     ]
    }
   ],
   "source": [
    "%%time\n",
    "# Wall time: 4min 51s\n",
    "\n",
    "x_train_50, x_test_50, y_train_50, y_test_50, count_vectorizer_50 = max_features_CountVect(50)\n",
    "dtc = DecisionTreeClassifier()                                                                                                 \n",
    "dt_f1_50, dt_precision_50, dt_recall_50, dt_accuracy_50, y_pred_dt50 = train_model(OneVsRestClassifier(dtc, n_jobs = -1), \n",
    "                                                                                   x_train_50, x_test_50, \n",
    "                                                                                   y_train_50, y_test_50)"
   ]
  },
  {
   "cell_type": "markdown",
   "metadata": {},
   "source": [
    "### Max_features: 100\n",
    "[Top](#Part-2:-Machine-Learning-Models)\n",
    "\n",
    "Setting `max_features` as 100 for `CountVectorizer`."
   ]
  },
  {
   "cell_type": "code",
   "execution_count": 35,
   "metadata": {},
   "outputs": [
    {
     "name": "stdout",
     "output_type": "stream",
     "text": [
      "(8000, 200000) (2000, 200000) (8000, 100) (2000, 100)\n",
      "\n",
      "Micro F1 Score: 0.453\n",
      "Micro Precision: 0.483\n",
      "Micro Recall: 0.428\n",
      "Accuracy: 0.302\n",
      "Wall time: 5min 13s\n"
     ]
    }
   ],
   "source": [
    "%%time\n",
    "# Wall time: 5min 32s\n",
    "\n",
    "x_train_1, x_test_1, y_train_1, y_test_1, count_vectorizer_1 = max_features_CountVect(100)\n",
    "dtc = DecisionTreeClassifier()                                                                                                 \n",
    "dt_f1_1, dt_precision_1, dt_recall_1, dt_accuracy_1, y_pred_dt1 = train_model(OneVsRestClassifier(dtc, n_jobs = -1), \n",
    "                                                                              x_train_1, x_test_1, y_train_1, y_test_1)"
   ]
  },
  {
   "cell_type": "markdown",
   "metadata": {},
   "source": [
    "### Max_features: 200\n",
    "[Top](#Part-2:-Machine-Learning-Models)\n",
    "\n",
    "Setting `max_features` as 200 for `CountVectorizer`."
   ]
  },
  {
   "cell_type": "code",
   "execution_count": 36,
   "metadata": {
    "scrolled": true
   },
   "outputs": [
    {
     "name": "stdout",
     "output_type": "stream",
     "text": [
      "(8000, 200000) (2000, 200000) (8000, 200) (2000, 200)\n",
      "\n",
      "Micro F1 Score: 0.446\n",
      "Micro Precision: 0.476\n",
      "Micro Recall: 0.421\n",
      "Accuracy: 0.227\n",
      "Wall time: 8min 46s\n"
     ]
    }
   ],
   "source": [
    "%%time\n",
    "# Wall time: 8min 46s\n",
    "\n",
    "x_train_2, x_test_2, y_train_2, y_test_2, count_vectorizer_2 = max_features_CountVect(200)\n",
    "dt_f1_2, dt_precision_2, dt_recall_2, dt_accuracy_2, y_pred_dt2 = train_model(OneVsRestClassifier(dtc, n_jobs = -1), \n",
    "                                                                              x_train_2, x_test_2, y_train_2, y_test_2)"
   ]
  },
  {
   "cell_type": "markdown",
   "metadata": {},
   "source": [
    "### Max_features: 300\n",
    "[Top](#Part-2:-Machine-Learning-Models)\n",
    "\n",
    "Setting `max_features` as 300 for `CountVectorizer`."
   ]
  },
  {
   "cell_type": "code",
   "execution_count": 37,
   "metadata": {
    "scrolled": true
   },
   "outputs": [
    {
     "name": "stdout",
     "output_type": "stream",
     "text": [
      "(8000, 200000) (2000, 200000) (8000, 300) (2000, 300)\n",
      "\n",
      "Micro F1 Score: 0.424\n",
      "Micro Precision: 0.448\n",
      "Micro Recall: 0.402\n",
      "Accuracy: 0.174\n",
      "Wall time: 10min 23s\n"
     ]
    }
   ],
   "source": [
    "%%time\n",
    "# Wall time: 11min 29s\n",
    "\n",
    "x_train_3, x_test_3, y_train_3, y_test_3, count_vectorizer_3 = max_features_CountVect(300)\n",
    "dt_f1_3, dt_precision_3, dt_recall_3, dt_accuracy_3, y_pred_dt3 = train_model(OneVsRestClassifier(dtc, n_jobs = -1), \n",
    "                                                                              x_train_3, x_test_3, y_train_3, y_test_3)"
   ]
  },
  {
   "cell_type": "markdown",
   "metadata": {},
   "source": [
    "### Max_features: 400\n",
    "[Top](#Part-2:-Machine-Learning-Models)\n",
    "\n",
    "Setting `max_features` as 400 for `CountVectorizer`."
   ]
  },
  {
   "cell_type": "code",
   "execution_count": 38,
   "metadata": {
    "scrolled": true
   },
   "outputs": [
    {
     "name": "stdout",
     "output_type": "stream",
     "text": [
      "(8000, 200000) (2000, 200000) (8000, 400) (2000, 400)\n",
      "\n",
      "Micro F1 Score: 0.412\n",
      "Micro Precision: 0.447\n",
      "Micro Recall: 0.381\n",
      "Accuracy: 0.157\n",
      "Wall time: 12min 6s\n"
     ]
    }
   ],
   "source": [
    "%%time\n",
    "# Wall time: 14min 14s\n",
    "\n",
    "x_train_4, x_test_4, y_train_4, y_test_4, count_vectorizer_4 = max_features_CountVect(400)\n",
    "dt_f1_4, dt_precision_4, dt_recall_4, dt_accuracy_4, y_pred_dt4 = train_model(OneVsRestClassifier(dtc, n_jobs = -1), \n",
    "                                                                              x_train_4, x_test_4, y_train_4, y_test_4)"
   ]
  },
  {
   "cell_type": "markdown",
   "metadata": {},
   "source": [
    "### Max_features: 500\n",
    "[Top](#Part-2:-Machine-Learning-Models)\n",
    "\n",
    "Setting `max_features` as 500 for `CountVectorizer`."
   ]
  },
  {
   "cell_type": "code",
   "execution_count": 39,
   "metadata": {},
   "outputs": [
    {
     "name": "stdout",
     "output_type": "stream",
     "text": [
      "(8000, 200000) (2000, 200000) (8000, 500) (2000, 500)\n",
      "\n",
      "Micro F1 Score: 0.405\n",
      "Micro Precision: 0.437\n",
      "Micro Recall: 0.377\n",
      "Accuracy: 0.138\n",
      "Wall time: 15min 10s\n"
     ]
    }
   ],
   "source": [
    "%%time\n",
    "# Wall time: 17min 12s\n",
    "\n",
    "x_train_5, x_test_5, y_train_5, y_test_5, count_vectorizer_5 = max_features_CountVect(500)\n",
    "dt_f1_5, dt_precision_5, dt_recall_5, dt_accuracy_5, y_pred_dt5 = train_model(OneVsRestClassifier(dtc, n_jobs = -1), \n",
    "                                                                              x_train_5, x_test_5, y_train_5, y_test_5)"
   ]
  },
  {
   "cell_type": "markdown",
   "metadata": {},
   "source": [
    "### Max_features: 1000\n",
    "[Top](#Part-2:-Machine-Learning-Models)\n",
    "\n",
    "Setting `max_features` as 1000 for `CountVectorizer`."
   ]
  },
  {
   "cell_type": "code",
   "execution_count": 40,
   "metadata": {},
   "outputs": [
    {
     "name": "stdout",
     "output_type": "stream",
     "text": [
      "(8000, 200000) (2000, 200000) (8000, 1000) (2000, 1000)\n",
      "\n",
      "Micro F1 Score: 0.385\n",
      "Micro Precision: 0.419\n",
      "Micro Recall: 0.356\n",
      "Accuracy: 0.088\n",
      "Wall time: 25min 12s\n"
     ]
    }
   ],
   "source": [
    "%%time\n",
    "# Wall time: 15min 52s\n",
    "\n",
    "x_train_10, x_test_10, y_train_10, y_test_10, count_vectorizer_10 = max_features_CountVect(1000)\n",
    "dt_f1_10, dt_precision_10, dt_recall_10, dt_accuracy_10, y_pred_dt10 = train_model(OneVsRestClassifier(dtc, n_jobs = -1), \n",
    "                                                                                   x_train_10, x_test_10, \n",
    "                                                                                   y_train_10, y_test_10)"
   ]
  },
  {
   "cell_type": "markdown",
   "metadata": {},
   "source": [
    "### Evaluation Metrics for DecisionTreeClassifier\n",
    "[Top](#Part-2:-Machine-Learning-Models)\n",
    "\n",
    "It seems that the larger the number of `max_features` in the dataset, the lower is the Micro F1-Score. From the table below, `max_features:50` gives the highest Micro F1 Score."
   ]
  },
  {
   "cell_type": "code",
   "execution_count": 194,
   "metadata": {
    "scrolled": true
   },
   "outputs": [
    {
     "data": {
      "text/html": [
       "<div>\n",
       "<style scoped>\n",
       "    .dataframe tbody tr th:only-of-type {\n",
       "        vertical-align: middle;\n",
       "    }\n",
       "\n",
       "    .dataframe tbody tr th {\n",
       "        vertical-align: top;\n",
       "    }\n",
       "\n",
       "    .dataframe thead th {\n",
       "        text-align: right;\n",
       "    }\n",
       "</style>\n",
       "<table border=\"1\" class=\"dataframe\">\n",
       "  <thead>\n",
       "    <tr style=\"text-align: right;\">\n",
       "      <th></th>\n",
       "      <th>Micro F1 Score</th>\n",
       "      <th>Micro Precision</th>\n",
       "      <th>Micro Recall</th>\n",
       "      <th>Accuracy</th>\n",
       "    </tr>\n",
       "  </thead>\n",
       "  <tbody>\n",
       "    <tr>\n",
       "      <th>Max_features: 50</th>\n",
       "      <td>0.469333</td>\n",
       "      <td>0.506038</td>\n",
       "      <td>0.437593</td>\n",
       "      <td>0.3760</td>\n",
       "    </tr>\n",
       "    <tr>\n",
       "      <th>Max_features: 100</th>\n",
       "      <td>0.453374</td>\n",
       "      <td>0.482566</td>\n",
       "      <td>0.427512</td>\n",
       "      <td>0.3025</td>\n",
       "    </tr>\n",
       "    <tr>\n",
       "      <th>Max_features: 200</th>\n",
       "      <td>0.446480</td>\n",
       "      <td>0.475698</td>\n",
       "      <td>0.420643</td>\n",
       "      <td>0.2270</td>\n",
       "    </tr>\n",
       "    <tr>\n",
       "      <th>Max_features: 300</th>\n",
       "      <td>0.423701</td>\n",
       "      <td>0.448454</td>\n",
       "      <td>0.401538</td>\n",
       "      <td>0.1745</td>\n",
       "    </tr>\n",
       "    <tr>\n",
       "      <th>Max_features: 400</th>\n",
       "      <td>0.411692</td>\n",
       "      <td>0.447342</td>\n",
       "      <td>0.381305</td>\n",
       "      <td>0.1570</td>\n",
       "    </tr>\n",
       "    <tr>\n",
       "      <th>Max_features: 500</th>\n",
       "      <td>0.404623</td>\n",
       "      <td>0.436691</td>\n",
       "      <td>0.376942</td>\n",
       "      <td>0.1380</td>\n",
       "    </tr>\n",
       "    <tr>\n",
       "      <th>Max_features: 1000</th>\n",
       "      <td>0.385363</td>\n",
       "      <td>0.419390</td>\n",
       "      <td>0.356443</td>\n",
       "      <td>0.0885</td>\n",
       "    </tr>\n",
       "  </tbody>\n",
       "</table>\n",
       "</div>"
      ],
      "text/plain": [
       "                    Micro F1 Score  Micro Precision  Micro Recall  Accuracy\n",
       "Max_features: 50          0.469333         0.506038      0.437593    0.3760\n",
       "Max_features: 100         0.453374         0.482566      0.427512    0.3025\n",
       "Max_features: 200         0.446480         0.475698      0.420643    0.2270\n",
       "Max_features: 300         0.423701         0.448454      0.401538    0.1745\n",
       "Max_features: 400         0.411692         0.447342      0.381305    0.1570\n",
       "Max_features: 500         0.404623         0.436691      0.376942    0.1380\n",
       "Max_features: 1000        0.385363         0.419390      0.356443    0.0885"
      ]
     },
     "execution_count": 194,
     "metadata": {},
     "output_type": "execute_result"
    }
   ],
   "source": [
    "dt_results = pd.DataFrame({'Micro F1 Score': dt_f1_50, 'Micro Precision': dt_precision_50, 'Micro Recall': dt_recall_50, \n",
    "                           'Accuracy': dt_accuracy_50}, index = ['Max_features: 50'])\n",
    "dt_results.loc['Max_features: 100'] = dt_f1_1, dt_precision_1, dt_recall_1, dt_accuracy_1\n",
    "dt_results.loc['Max_features: 200'] = dt_f1_2, dt_precision_2, dt_recall_2, dt_accuracy_2\n",
    "dt_results.loc['Max_features: 300'] = dt_f1_3, dt_precision_3, dt_recall_3, dt_accuracy_3\n",
    "dt_results.loc['Max_features: 400'] = dt_f1_4, dt_precision_4, dt_recall_4, dt_accuracy_4\n",
    "dt_results.loc['Max_features: 500'] = dt_f1_5, dt_precision_5, dt_recall_5, dt_accuracy_5\n",
    "dt_results.loc['Max_features: 1000'] = dt_f1_10, dt_precision_10, dt_recall_10, dt_accuracy_10\n",
    "dt_results"
   ]
  },
  {
   "cell_type": "markdown",
   "metadata": {},
   "source": [
    "## Part 3: Making Predictions\n",
    "### Tags Prediction\n",
    "[Top](#Part-3:-Making-Predictions)\n",
    "\n",
    "Listing the tags predicted by all `DecisionTreeClassifier` fine-tuned models."
   ]
  },
  {
   "cell_type": "code",
   "execution_count": 195,
   "metadata": {},
   "outputs": [],
   "source": [
    "pred_tags_50 = count_vectorizer_50.inverse_transform(y_pred_dt50) \n",
    "pred_tags_1 = count_vectorizer_1.inverse_transform(y_pred_dt1) \n",
    "pred_tags_2 = count_vectorizer_2.inverse_transform(y_pred_dt2) \n",
    "pred_tags_3 = count_vectorizer_3.inverse_transform(y_pred_dt3) \n",
    "pred_tags_4 = count_vectorizer_4.inverse_transform(y_pred_dt4) \n",
    "pred_tags_5 = count_vectorizer_5.inverse_transform(y_pred_dt5) \n",
    "pred_tags_10 = count_vectorizer_10.inverse_transform(y_pred_dt10)\n",
    "actual_tags = count_vectorizer.inverse_transform(y_test)"
   ]
  },
  {
   "cell_type": "code",
   "execution_count": 196,
   "metadata": {
    "scrolled": false
   },
   "outputs": [
    {
     "data": {
      "text/html": [
       "<div>\n",
       "<style scoped>\n",
       "    .dataframe tbody tr th:only-of-type {\n",
       "        vertical-align: middle;\n",
       "    }\n",
       "\n",
       "    .dataframe tbody tr th {\n",
       "        vertical-align: top;\n",
       "    }\n",
       "\n",
       "    .dataframe thead th {\n",
       "        text-align: right;\n",
       "    }\n",
       "</style>\n",
       "<table border=\"1\" class=\"dataframe\">\n",
       "  <thead>\n",
       "    <tr style=\"text-align: right;\">\n",
       "      <th></th>\n",
       "      <th>Actual Tags (y_test)</th>\n",
       "      <th>Max_features:50</th>\n",
       "      <th>Max_features:100</th>\n",
       "      <th>Max_features:200</th>\n",
       "      <th>Max_features:300</th>\n",
       "      <th>Max_features:400</th>\n",
       "      <th>Max_features:500</th>\n",
       "      <th>Max_features:1000</th>\n",
       "    </tr>\n",
       "  </thead>\n",
       "  <tbody>\n",
       "    <tr>\n",
       "      <th>0</th>\n",
       "      <td>[sql, mysql, sql-server]</td>\n",
       "      <td>[database, sql]</td>\n",
       "      <td>[sql]</td>\n",
       "      <td>[java]</td>\n",
       "      <td>[sql]</td>\n",
       "      <td>[sql]</td>\n",
       "      <td>[sql]</td>\n",
       "      <td>[java, query]</td>\n",
       "    </tr>\n",
       "    <tr>\n",
       "      <th>1</th>\n",
       "      <td>[ajax, codeigniter]</td>\n",
       "      <td>[ajax, asp.net, jquery, php]</td>\n",
       "      <td>[ajax, asp.net, codeigniter, jquery, php]</td>\n",
       "      <td>[asp.net, codeigniter, jquery, php]</td>\n",
       "      <td>[ajax, codeigniter, jquery, php]</td>\n",
       "      <td>[ajax, codeigniter, jquery]</td>\n",
       "      <td>[asp.net, codeigniter, jquery, php, twitter-bo...</td>\n",
       "      <td>[asp.net, codeigniter, jquery, php, twitter-bo...</td>\n",
       "    </tr>\n",
       "    <tr>\n",
       "      <th>2</th>\n",
       "      <td>[sql-server, sql-server-2008]</td>\n",
       "      <td>[android, sql]</td>\n",
       "      <td>[.net, android, ruby-on-rails, sql, visual-stu...</td>\n",
       "      <td>[android, sql]</td>\n",
       "      <td>[android, sql, stored-procedures]</td>\n",
       "      <td>[android, sql, stored-procedures]</td>\n",
       "      <td>[android, sql, stored-procedures]</td>\n",
       "      <td>[android, count, sql, stored-procedures]</td>\n",
       "    </tr>\n",
       "    <tr>\n",
       "      <th>3</th>\n",
       "      <td>[]</td>\n",
       "      <td>[]</td>\n",
       "      <td>[php]</td>\n",
       "      <td>[php, shell]</td>\n",
       "      <td>[php]</td>\n",
       "      <td>[bash, php]</td>\n",
       "      <td>[php, silverlight-4.0]</td>\n",
       "      <td>[objective-c, php, windows-7, zend-framework2]</td>\n",
       "    </tr>\n",
       "    <tr>\n",
       "      <th>4</th>\n",
       "      <td>[php, javascript, jquery]</td>\n",
       "      <td>[ajax]</td>\n",
       "      <td>[ajax]</td>\n",
       "      <td>[ajax, performance]</td>\n",
       "      <td>[ajax]</td>\n",
       "      <td>[ajax]</td>\n",
       "      <td>[ajax, wcf]</td>\n",
       "      <td>[ajax, frameworks]</td>\n",
       "    </tr>\n",
       "    <tr>\n",
       "      <th>5</th>\n",
       "      <td>[linq, query, nhibernate]</td>\n",
       "      <td>[.net, c#, linq]</td>\n",
       "      <td>[.net, asp.net, linq]</td>\n",
       "      <td>[.net, c#, linq, nhibernate]</td>\n",
       "      <td>[c#, linq, nhibernate]</td>\n",
       "      <td>[.net, c#, linq, nhibernate]</td>\n",
       "      <td>[.net, c#, linq, nhibernate]</td>\n",
       "      <td>[asp.net, azure, c#, linq, nhibernate]</td>\n",
       "    </tr>\n",
       "    <tr>\n",
       "      <th>6</th>\n",
       "      <td>[crystal-reports, delphi]</td>\n",
       "      <td>[vb.net]</td>\n",
       "      <td>[vb.net]</td>\n",
       "      <td>[delphi, vb.net]</td>\n",
       "      <td>[delphi, jquery, vb.net]</td>\n",
       "      <td>[crystal-reports, delphi, jquery-selectors, vb...</td>\n",
       "      <td>[crystal-reports, delphi, jquery, vb.net]</td>\n",
       "      <td>[crystal-reports, delphi, jquery, vb.net]</td>\n",
       "    </tr>\n",
       "    <tr>\n",
       "      <th>7</th>\n",
       "      <td>[javascript, html5]</td>\n",
       "      <td>[html5, javascript]</td>\n",
       "      <td>[html5, javascript]</td>\n",
       "      <td>[canvas, html5, javascript]</td>\n",
       "      <td>[canvas, html5, javascript]</td>\n",
       "      <td>[canvas, html5, javascript]</td>\n",
       "      <td>[canvas, html5, javascript, tikz-pgf]</td>\n",
       "      <td>[canvas, html5, javascript]</td>\n",
       "    </tr>\n",
       "    <tr>\n",
       "      <th>8</th>\n",
       "      <td>[java]</td>\n",
       "      <td>[java]</td>\n",
       "      <td>[java]</td>\n",
       "      <td>[java]</td>\n",
       "      <td>[java]</td>\n",
       "      <td>[java]</td>\n",
       "      <td>[java]</td>\n",
       "      <td>[]</td>\n",
       "    </tr>\n",
       "    <tr>\n",
       "      <th>9</th>\n",
       "      <td>[java, memory-management, memory-leaks]</td>\n",
       "      <td>[java]</td>\n",
       "      <td>[java]</td>\n",
       "      <td>[java]</td>\n",
       "      <td>[java, ubuntu]</td>\n",
       "      <td>[java]</td>\n",
       "      <td>[java]</td>\n",
       "      <td>[java]</td>\n",
       "    </tr>\n",
       "  </tbody>\n",
       "</table>\n",
       "</div>"
      ],
      "text/plain": [
       "                      Actual Tags (y_test)               Max_features:50  \\\n",
       "0                 [sql, mysql, sql-server]               [database, sql]   \n",
       "1                      [ajax, codeigniter]  [ajax, asp.net, jquery, php]   \n",
       "2            [sql-server, sql-server-2008]                [android, sql]   \n",
       "3                                       []                            []   \n",
       "4                [php, javascript, jquery]                        [ajax]   \n",
       "5                [linq, query, nhibernate]              [.net, c#, linq]   \n",
       "6                [crystal-reports, delphi]                      [vb.net]   \n",
       "7                      [javascript, html5]           [html5, javascript]   \n",
       "8                                   [java]                        [java]   \n",
       "9  [java, memory-management, memory-leaks]                        [java]   \n",
       "\n",
       "                                    Max_features:100  \\\n",
       "0                                              [sql]   \n",
       "1          [ajax, asp.net, codeigniter, jquery, php]   \n",
       "2  [.net, android, ruby-on-rails, sql, visual-stu...   \n",
       "3                                              [php]   \n",
       "4                                             [ajax]   \n",
       "5                              [.net, asp.net, linq]   \n",
       "6                                           [vb.net]   \n",
       "7                                [html5, javascript]   \n",
       "8                                             [java]   \n",
       "9                                             [java]   \n",
       "\n",
       "                      Max_features:200                   Max_features:300  \\\n",
       "0                               [java]                              [sql]   \n",
       "1  [asp.net, codeigniter, jquery, php]   [ajax, codeigniter, jquery, php]   \n",
       "2                       [android, sql]  [android, sql, stored-procedures]   \n",
       "3                         [php, shell]                              [php]   \n",
       "4                  [ajax, performance]                             [ajax]   \n",
       "5         [.net, c#, linq, nhibernate]             [c#, linq, nhibernate]   \n",
       "6                     [delphi, vb.net]           [delphi, jquery, vb.net]   \n",
       "7          [canvas, html5, javascript]        [canvas, html5, javascript]   \n",
       "8                               [java]                             [java]   \n",
       "9                               [java]                     [java, ubuntu]   \n",
       "\n",
       "                                    Max_features:400  \\\n",
       "0                                              [sql]   \n",
       "1                        [ajax, codeigniter, jquery]   \n",
       "2                  [android, sql, stored-procedures]   \n",
       "3                                        [bash, php]   \n",
       "4                                             [ajax]   \n",
       "5                       [.net, c#, linq, nhibernate]   \n",
       "6  [crystal-reports, delphi, jquery-selectors, vb...   \n",
       "7                        [canvas, html5, javascript]   \n",
       "8                                             [java]   \n",
       "9                                             [java]   \n",
       "\n",
       "                                    Max_features:500  \\\n",
       "0                                              [sql]   \n",
       "1  [asp.net, codeigniter, jquery, php, twitter-bo...   \n",
       "2                  [android, sql, stored-procedures]   \n",
       "3                             [php, silverlight-4.0]   \n",
       "4                                        [ajax, wcf]   \n",
       "5                       [.net, c#, linq, nhibernate]   \n",
       "6          [crystal-reports, delphi, jquery, vb.net]   \n",
       "7              [canvas, html5, javascript, tikz-pgf]   \n",
       "8                                             [java]   \n",
       "9                                             [java]   \n",
       "\n",
       "                                   Max_features:1000  \n",
       "0                                      [java, query]  \n",
       "1  [asp.net, codeigniter, jquery, php, twitter-bo...  \n",
       "2           [android, count, sql, stored-procedures]  \n",
       "3     [objective-c, php, windows-7, zend-framework2]  \n",
       "4                                 [ajax, frameworks]  \n",
       "5             [asp.net, azure, c#, linq, nhibernate]  \n",
       "6          [crystal-reports, delphi, jquery, vb.net]  \n",
       "7                        [canvas, html5, javascript]  \n",
       "8                                                 []  \n",
       "9                                             [java]  "
      ]
     },
     "execution_count": 196,
     "metadata": {},
     "output_type": "execute_result"
    }
   ],
   "source": [
    "tags_table = pd.DataFrame({'Actual Tags (y_test)': actual_tags, 'Max_features:50': pred_tags_50})\n",
    "tags_table['Max_features:100'] = pred_tags_1\n",
    "tags_table['Max_features:200'] = pred_tags_2\n",
    "tags_table['Max_features:300'] = pred_tags_3\n",
    "tags_table['Max_features:400'] = pred_tags_4\n",
    "tags_table['Max_features:500'] = pred_tags_5\n",
    "tags_table['Max_features:1000'] = pred_tags_10\n",
    "tags_table.head(10)"
   ]
  },
  {
   "cell_type": "markdown",
   "metadata": {},
   "source": [
    "Comparing predicted tags from `max_features:50` with `Title`, `Body` columns and actual tags."
   ]
  },
  {
   "cell_type": "code",
   "execution_count": 197,
   "metadata": {},
   "outputs": [
    {
     "name": "stdout",
     "output_type": "stream",
     "text": [
      "Wall time: 18.1 s\n"
     ]
    }
   ],
   "source": [
    "%%time\n",
    "# Wall time: 18 s\n",
    "\n",
    "actual_df = pd.read_csv(filename, nrows = no_of_rows)\n",
    "actual_df['Body'] = actual_df['Body'].apply(lambda x: bs4.BeautifulSoup(x, 'lxml').get_text()) \n",
    "actual_df['Body'] = actual_df['Body'].apply(lambda x: clean_text(x)) \n",
    "actual_df['Body'] = actual_df['Body'].apply(lambda x: clean_punct(x)) \n",
    "\n",
    "actual_body = actual_df.Body[len(df) - y_test.shape[0]:]\n",
    "actual_title = actual_df.Title[len(df) - y_test.shape[0]:]\n",
    "actual_body = actual_body.reset_index(drop = True)\n",
    "actual_title = actual_title.reset_index(drop = True)"
   ]
  },
  {
   "cell_type": "code",
   "execution_count": 200,
   "metadata": {
    "scrolled": false
   },
   "outputs": [
    {
     "name": "stdout",
     "output_type": "stream",
     "text": [
      "\u001b[1mTitle: how do you delete a row, if this has foreign keys? sql\u001b[0m\n",
      "\u001b[1mBody:\u001b[0m for example if you have this rows create table table1 column1 int primary key column2 varchar 50 column3 varchar 50 column4 varchar 50 create table tabla2 col1 int primary key col2 int col3 varchar 50 foreign key col2 references table1 column1 and for example i have a row insert into table1 column1 column2 column3 column4 values 1 a b c insert into table2 col1 col2 col3 values 11 xxx and i want to delete all these rows just them delete from table1 where colum11 does not work i know i can first delete the another and after it but i have a database with a lot of tables and they have a foreign key since another table and i want to delete the row for all rows are relationed with this delete too\n",
      "\u001b[91m\u001b[1m\n",
      "Predicted tags:\u001b[0m ['database' 'sql']\n",
      "\u001b[94m\u001b[1mActual tags:\u001b[0m ['sql' 'mysql' 'sql-server']\n",
      "\n",
      "\u001b[1mTitle: Redirect in codeigniter after login\u001b[0m\n",
      "\u001b[1mBody:\u001b[0m trying to do a redirect after a successful login the login info is sent using ajax to the controller my controller code as below public function logincontrollerfunction this-load-model loginmodel if this-input-isajaxrequest username this-input-post username userpassword this-input-post password this-load-helper url result this-loginmodel-verifyuser username userpassword echo userloggedin if strcmp result userloggedin 0 redirect welcome but it is not working at all anyone knows whats wrong hi my html as requested i am using twitter bootstrap as well li class divider-vertical li lia href # id loginbtn loginali lia href php echo baseurl are gister registerali for the buttons so when i click the login button a modal window will appear and ask for login info so when i click on the login button my js code will send an ajax request my js code as below attempt register user jquery ajax #login click function var username #loginhere find #username val var userpassword #loginhere find #loginpwd val if username #124 #124 userpassword return var logindata username username password userpassword ajax type post datatype json async false url loginregisterlogincontrollerfunction data logindata success function data if datalogin alert dataredirect windowlocationreplace dataredirect else if datalogin alert would ata login not true error function data alert ajax error\n",
      "\u001b[91m\u001b[1m\n",
      "Predicted tags:\u001b[0m ['ajax' 'asp.net' 'jquery' 'php']\n",
      "\u001b[94m\u001b[1mActual tags:\u001b[0m ['ajax' 'codeigniter']\n",
      "\n",
      "\u001b[1mTitle: SQL Server Merge statement\u001b[0m\n",
      "\u001b[1mBody:\u001b[0m i am doing merge statement in my stored procedure i need to count the rows during updates and inserts if i use a common variable to get the updated rows for both update and insert how i can differ this is the count which i got from update and this is the count which i got from insert please give me a better way\n",
      "\u001b[91m\u001b[1m\n",
      "Predicted tags:\u001b[0m ['android' 'sql']\n",
      "\u001b[94m\u001b[1mActual tags:\u001b[0m ['sql-server' 'sql-server-2008']\n",
      "\n",
      "\u001b[1mTitle: Problems with getting BjyAuthorize activated in zend-developer-toolbar ZF2\u001b[0m\n",
      "\u001b[1mBody:\u001b[0m can someone give me some instructions on how to get the user roles into my zf2-toolbar i have problems getting the user-roles from my role-entity visible in my zend-developer-toolbar normaly i solve my own problems but in this case i am out of ideas i am using zfcuser bjyauthorize and doctrine2 i cannot find any instructions on how to make the user-roles show up on the toolbar i used composer to install all dependencies my composer file looks like this require php 533 zendframeworkzendframework 2 doctrinecommon 23-dev 25-dev zf-commonszfc-user 0 bjyoungbloodbjy-authorize 12 doctrinedoctrine-orm-module 0 zendframeworkzftool dev-master zendframeworkzend-developer-tools dev-master zf-commonszfc-user-doctrine-orm dev-master bjyoungbloodbjy-profiler dev-master in the toolbar i also still get the message error you have to install or enable bjyoungblood zenddb profiler to use this feature while in my configautoloadmodulezenddevelopertoolslocalphp i did set the profiler to enabled and it is also installed at least i checked that with my composerphar if profiler array enabled true would be great if someone can help me out thx\n",
      "\u001b[91m\u001b[1m\n",
      "Predicted tags:\u001b[0m []\n",
      "\u001b[94m\u001b[1mActual tags:\u001b[0m []\n",
      "\n",
      "\u001b[1mTitle: Calling Ajax and returning response\u001b[0m\n",
      "\u001b[1mBody:\u001b[0m i have search for so many questions but didnt get the right answer i have made the following function from what my research i understand that ajax call is async so on its done passing a value to global variable and returning that but i get a blank or undefined valuei can do it with #someid html in response or some other methods but i dont want to implement them . any idea what i am doing wrong here function simpleajax form postdata url var returndata var senddata if form senddata postdata else if postdata senddata form serialize ajax type post url url cache false data senddata success function data if data null #124 #124 typeof data undefined returndata data done function data returndata data return returndata ​\n",
      "\u001b[91m\u001b[1m\n",
      "Predicted tags:\u001b[0m ['ajax']\n",
      "\u001b[94m\u001b[1mActual tags:\u001b[0m ['php' 'javascript' 'jquery']\n",
      "\n",
      "\u001b[1mTitle: How do you return certain properties from a linq query, rather than complete objects?\u001b[0m\n",
      "\u001b[1mBody:\u001b[0m i have just downloaded the linq provider for nhibernate and am just a little excited but i do not know linq syntax that well i can return whole objects from a query like this var query from foo in sessionlinqkctcbusinesslayerdomaincase where foocasenumber 0 select foo and i can select a single property like this var query from foo in sessionlinqkctcbusinesslayerdomaincase where foocasenumber 0 select fooid but how would i select two properties eg fooid and foobar or is that not possible thanks david\n",
      "\u001b[91m\u001b[1m\n",
      "Predicted tags:\u001b[0m ['.net' 'c#' 'linq']\n",
      "\u001b[94m\u001b[1mActual tags:\u001b[0m ['linq' 'query' 'nhibernate']\n",
      "\n",
      "\u001b[1mTitle: Delphi - Show modal report with Crystal Reports\u001b[0m\n",
      "\u001b[1mBody:\u001b[0m i am using crystal reports 7 and delphi 7 and wondering how to open a modal preview of the report crpe1execute opens a non modal form but i can not find a way to open a modal one thanks for your help\n",
      "\u001b[91m\u001b[1m\n",
      "Predicted tags:\u001b[0m ['vb.net']\n",
      "\u001b[94m\u001b[1mActual tags:\u001b[0m ['crystal-reports' 'delphi']\n",
      "\n",
      "\u001b[1mTitle: Excanvas Javascript wont work in IE8\u001b[0m\n",
      "\u001b[1mBody:\u001b[0m i am using excanvas to work with html5 canvas in ie8 i created a litte jaavascript html5 game and it work great in firefox but when i use excanvas and try it in ie8 the canvas stays black and doesnt show anything the stranged thing is that another game i created worked fine with ie8 excanvas the only difference between these games is that i know use prototype can any one please tell me if this makes a difference or help solve this problem thank you in advance .\n",
      "\u001b[91m\u001b[1m\n",
      "Predicted tags:\u001b[0m ['html5' 'javascript']\n",
      "\u001b[94m\u001b[1mActual tags:\u001b[0m ['javascript' 'html5']\n",
      "\n",
      "\u001b[1mTitle: Java, multiple iterators on a set, removing proper subsets and ConcurrentModificationException\u001b[0m\n",
      "\u001b[1mBody:\u001b[0m i have a set a 12 123 234 34 1 i want to turn it into a 123 234 remove proper subsets from this set i am using a hashset to implement the set 2 iterator to run through the set and check all pairs for proper subset condition using containsall c and the remove method to remove proper subsets the code looks something like this hashsetinteger hs setinteger chsvalues iteratorinteger it citerator while ithasnext pitnext iteratorinteger it2 citerator while it2hasnext qit2next if q is a subset of p it2remove else if p is a subset of q itremove break i get a concurrentmodificationexception the 1st time i come out of the inner while loop and do a pitnext the exception is for when modifying the collection while iterating over it but that what remove is for i have used remove when using just 1 iterator and encountered no problems there if the exception is because i am removing an element from c or hs while iterating over it then the exception should be thrown when it encounter the very next it 2 next command but i do not see it then i see it when it encounters the itnext command i used the debugger and the collections and iterators are in perfect order after the element has been removed they contain and point to the proper updated set and element itnext contains the next element to be analyzed it not a deleted element any ideas over how i can do what i am trying to do without making a copy of the hashset itself and using it as an intermediate before i commit updates thank you\n",
      "\u001b[91m\u001b[1m\n",
      "Predicted tags:\u001b[0m ['java']\n",
      "\u001b[94m\u001b[1mActual tags:\u001b[0m ['java']\n",
      "\n",
      "\u001b[1mTitle: Java Webapp: strange memory statistics\u001b[0m\n",
      "\u001b[1mBody:\u001b[0m i am running a java web application j2ee+tomcat6+struts2+hibernate on a linux centos machine the problem is the top command says java is using 14 of memory out of 8g but in the summary information section says the overall free memory is 300m just mem not swap pid user pr ni virt res shr s cpu mem time+ swap time code data nflt command 666 root 20 0 1352m 12g 10m s 76 147 663 0037 158m 663 00 36 13g 65 java 3170 mysql 18 0 145m 33m 5044 s 07 04 753 5196 111m 753 51 6496 132m 100 mysqld 17340 root 15 0 2332 1080 800 r 03 00 0 0005 1252 0 00 56 468 0 top 1 root 15 0 2068 628 536 s 00 00 0 0258 1440 0 02 32 280 20 init 2 root rt -5 0 0 0 s 00 00 0 0018 0 0 00 0 0 0 migration0 3 root 34 19 0 0 0 s 00 00 0 0000 0 0 00 0 0 0 ksoftirqd0 4 root rt -5 0 0 0 s 00 00 0 0000 0 0 00 0 0 0 watchdog0 5 root rt -5 0 0 0 s 00 00 0 0001 0 0 00 0 0 0 migration1 6 root 34 19 0 0 0 s 00 00 0 0000 0 0 00 0 0 0 ksoftirqd1 7 root rt -5 0 0 0 s 00 00 0 0000 0 0 00 0 0 0 watchdog1 8 root rt -5 0 0 0 s 00 00 0 0001 0 0 00 0 0 0 migration2 . . . and so on mem 8300688k total 7998720k used 301968k free 52452k buffers swap 16779884k total 60k used 16779824k free 6511228k cached what is the problem what could be using memory covertly non-heap or what thanks buddies .\n",
      "\u001b[91m\u001b[1m\n",
      "Predicted tags:\u001b[0m ['java']\n",
      "\u001b[94m\u001b[1mActual tags:\u001b[0m ['java' 'memory-management' 'memory-leaks']\n",
      "\n"
     ]
    }
   ],
   "source": [
    "class color:\n",
    "    BOLD = '\\033[1m'\n",
    "    END = '\\033[0m'\n",
    "    BLUE = '\\033[94m'\n",
    "    RED = '\\033[91m'\n",
    "    \n",
    "for i in range(0, 10):\n",
    "    print(color.BOLD + \"Title: \" + actual_title[i] + color.END)\n",
    "    print(color.BOLD + \"Body:\" + color.END, actual_body[i])\n",
    "    print(color.RED + color.BOLD + \"\\nPredicted tags:\" + color.END, pred_tags_50[i])\n",
    "    print(color.BLUE + color.BOLD + \"Actual tags:\" + color.END, actual_tags[i])\n",
    "    print()"
   ]
  }
 ],
 "metadata": {
  "kernelspec": {
   "display_name": "Python 3",
   "language": "python",
   "name": "python3"
  },
  "language_info": {
   "codemirror_mode": {
    "name": "ipython",
    "version": 3
   },
   "file_extension": ".py",
   "mimetype": "text/x-python",
   "name": "python",
   "nbconvert_exporter": "python",
   "pygments_lexer": "ipython3",
   "version": "3.6.5"
  }
 },
 "nbformat": 4,
 "nbformat_minor": 2
}
